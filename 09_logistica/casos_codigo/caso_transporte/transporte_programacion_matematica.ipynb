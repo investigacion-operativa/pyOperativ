{
 "cells": [
  {
   "cell_type": "markdown",
   "metadata": {},
   "source": [
    "---\n",
    "__Universidad Tecnológica Nacional, Buenos Aires__\\\n",
    "__Ingeniería Industrial__\\\n",
    "__Cátedra de Investigación Operativa__\\\n",
    "__Autor: Rodrigo Maranzana__, Rmaranzana@frba.utn.edu.ar\n",
    "\n",
    "---"
   ]
  },
  {
   "cell_type": "markdown",
   "metadata": {},
   "source": [
    "# Ejemplo de Transporte con Programación Matemática\n",
    "Se busca transportar por arcos que unen nodos proveedores con nodos clientes, una cantidad determinada de un solo producto. La oferta y demanda de los clientes está balanceada."
   ]
  },
  {
   "cell_type": "code",
   "execution_count": 1,
   "metadata": {},
   "outputs": [],
   "source": [
    "import numpy as np\n",
    "from scipy.optimize import linprog"
   ]
  },
  {
   "cell_type": "markdown",
   "metadata": {},
   "source": [
    "## Datos del ejemplo\n",
    "El ejemplo está representado por:\n",
    "- Una matriz Nodo-Arco.\n",
    "- Un vector de pesos o costos de los arcos.\n",
    "- Un vector de oferta y demanda.\n",
    "- Cotas"
   ]
  },
  {
   "cell_type": "code",
   "execution_count": 2,
   "metadata": {},
   "outputs": [
    {
     "name": "stdout",
     "output_type": "stream",
     "text": [
      "Matriz Nodo-Arco \n",
      " [[ 1  1  0  0  0  0]\n",
      " [ 0  0  1  1  0  0]\n",
      " [ 0  0  0  0  1  1]\n",
      " [-1  0 -1  0 -1  0]\n",
      " [ 0 -1  0 -1  0 -1]] \n",
      "\n",
      "Costos \n",
      " [10 20 10 10 10 30] \n",
      "\n",
      "Oferta/Demanda \n",
      " [ 10  20  15 -25 -20] \n",
      "\n",
      "Cotas \n",
      " ((0, None), (0, None), (0, None), (0, None), (0, None), (0, None)) \n",
      "\n"
     ]
    }
   ],
   "source": [
    "# Matriz de adyacencia\n",
    "Aeq = np.array([[ 1, 1, 0, 0, 0, 0],\n",
    "                [ 0, 0, 1, 1, 0, 0],\n",
    "                [ 0, 0, 0, 0, 1, 1],\n",
    "                [-1, 0,-1, 0,-1, 0],\n",
    "                [ 0,-1, 0,-1, 0,-1]])\n",
    "\n",
    "# Vector de costos por arco:\n",
    "C = np.array([10, 20, 10, 10, 10, 30])\n",
    "\n",
    "# Vector de oferta y demanda:\n",
    "beq = np.array([10, 20, 15, -25, -20])\n",
    "\n",
    "# Cotas:\n",
    "bounds = tuple([(0, None) for arcs in range(0, C.shape[0])])\n",
    "\n",
    "# Imprimimos:\n",
    "print('Matriz Nodo-Arco \\n', Aeq,'\\n')\n",
    "print('Costos \\n', C,'\\n')\n",
    "print('Oferta/Demanda \\n', beq,'\\n')\n",
    "print('Cotas \\n', bounds,'\\n')"
   ]
  },
  {
   "cell_type": "markdown",
   "metadata": {},
   "source": [
    "## Optimizamos con scipy"
   ]
  },
  {
   "cell_type": "code",
   "execution_count": 3,
   "metadata": {},
   "outputs": [
    {
     "name": "stderr",
     "output_type": "stream",
     "text": [
      "c:\\users\\54115\\appdata\\local\\programs\\python\\python37-32\\lib\\site-packages\\scipy\\optimize\\_linprog_util.py:763: OptimizeWarning: A_eq does not appear to be of full row rank. To improve performance, check the problem formulation for redundant equality constraints.\n",
      "  warn(redundancy_warning, OptimizeWarning)\n"
     ]
    }
   ],
   "source": [
    "# OPTIMIZE:\n",
    "res = linprog(C, A_eq=Aeq, b_eq=beq, bounds=bounds, method='revised simplex')"
   ]
  },
  {
   "cell_type": "markdown",
   "metadata": {},
   "source": [
    "## Imprimimos los resultados"
   ]
  },
  {
   "cell_type": "code",
   "execution_count": 4,
   "metadata": {},
   "outputs": [
    {
     "name": "stdout",
     "output_type": "stream",
     "text": [
      "Cantidad para cada arco: [10.  0.  0. 20. 15.  0.]\n",
      "Costo mínimo total: 450.0\n"
     ]
    }
   ],
   "source": [
    "print('Cantidad para cada arco:', res.x)\n",
    "print('Costo mínimo total:', res.fun)"
   ]
  },
  {
   "cell_type": "markdown",
   "metadata": {},
   "source": [
    "## Resolución con Google OR-Tools"
   ]
  },
  {
   "cell_type": "code",
   "execution_count": 3,
   "metadata": {},
   "outputs": [
    {
     "name": "stdout",
     "output_type": "stream",
     "text": [
      "Minimum cost: 450\n",
      "\n",
      "  Arc    Flow   Cost\n",
      "0 -> 3    10    100\n",
      "0 -> 4     0      0\n",
      "1 -> 3     0      0\n",
      "1 -> 4    20    200\n",
      "2 -> 3    15    150\n",
      "2 -> 4     0      0\n"
     ]
    }
   ],
   "source": [
    "\"\"\"\n",
    "Aplicación de Google OR-Tools para el problema de Transporte en Python.\n",
    "Ejemplo modificado para el caso de Transporte modelizado como Flujo de Mínimo Costo.\n",
    "El ejemplo original en inglés se puede encontrar en:\n",
    "\n",
    "https://developers.google.com/optimization/flow/mincostflow\n",
    "\"\"\"\n",
    "\n",
    "from ortools.graph import pywrapgraph\n",
    "\n",
    "# Definir cuatro listas paralelas: nodos inciales, nodos finales, capacidades y costos\n",
    "# unitarios entre cada par de nodos. Por ejemplo, el arco entre el nodo 0 al nodo 1\n",
    "# tiene una capacidad Infinita y un costo unitario de 10.\n",
    "\n",
    "start_nodes = [ 0, 0, 1, 1, 2, 2]\n",
    "end_nodes   = [ 3, 4, 3, 4, 3, 4]\n",
    "capacities  = [9999]*6\n",
    "unit_costs  = [10, 20, 10, 10, 10, 35]\n",
    "\n",
    "\n",
    "# Definir peso neto de los nodos, oferta y demanda.\n",
    "supplies = [10, 20, 15, -25, -20]\n",
    "\n",
    "\n",
    "# Instancear el solver \"SimpleMinCostFlow\" que resuelve el modelo de Flujo de Mínimo Costo.\n",
    "min_cost_flow = pywrapgraph.SimpleMinCostFlow()\n",
    "\n",
    "# Agregar cada arco al problema:\n",
    "for i in range(0, len(start_nodes)):\n",
    "    min_cost_flow.AddArcWithCapacityAndUnitCost(start_nodes[i], end_nodes[i],\n",
    "                                            capacities[i], unit_costs[i])\n",
    "\n",
    "# Agregar oferta y demanda:\n",
    "for i in range(0, len(supplies)):\n",
    "    min_cost_flow.SetNodeSupply(i, supplies[i])\n",
    "\n",
    "\n",
    "# Resolver el problema y obtener la cantidad a enviar por cada arco:\n",
    "out = min_cost_flow.Solve()\n",
    "\n",
    "if out == min_cost_flow.OPTIMAL:\n",
    "    print('Minimum cost:', min_cost_flow.OptimalCost())\n",
    "    print('')\n",
    "    print('  Arc    Flow   Cost')\n",
    "    for i in range(min_cost_flow.NumArcs()):\n",
    "      cost = min_cost_flow.Flow(i) * min_cost_flow.UnitCost(i)\n",
    "      print('%1s -> %1s   %3s    %3s' % (\n",
    "          min_cost_flow.Tail(i),\n",
    "          min_cost_flow.Head(i),\n",
    "          min_cost_flow.Flow(i),\n",
    "          cost))\n",
    "else:\n",
    "    print('Error con el input.')"
   ]
  },
  {
   "cell_type": "code",
   "execution_count": null,
   "metadata": {},
   "outputs": [],
   "source": []
  }
 ],
 "metadata": {
  "kernelspec": {
   "display_name": "Python 3",
   "language": "python",
   "name": "python3"
  },
  "language_info": {
   "codemirror_mode": {
    "name": "ipython",
    "version": 3
   },
   "file_extension": ".py",
   "mimetype": "text/x-python",
   "name": "python",
   "nbconvert_exporter": "python",
   "pygments_lexer": "ipython3",
   "version": "3.8.5"
  }
 },
 "nbformat": 4,
 "nbformat_minor": 4
}
