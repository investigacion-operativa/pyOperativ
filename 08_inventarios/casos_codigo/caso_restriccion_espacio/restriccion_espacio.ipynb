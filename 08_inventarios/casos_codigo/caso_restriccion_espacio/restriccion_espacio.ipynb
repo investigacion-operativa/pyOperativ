{
 "cells": [
  {
   "cell_type": "markdown",
   "metadata": {},
   "source": [
    "---\n",
    "__Universidad Tecnológica Nacional, Buenos Aires__\\\n",
    "__Ingeniería Industrial__\\\n",
    "__Cátedra de Investigación Operativa__\\\n",
    "__Autor: Rodrigo Maranzana__, Rmaranzana@frba.utn.edu.ar\n",
    "\n",
    "---"
   ]
  },
  {
   "cell_type": "markdown",
   "metadata": {},
   "source": [
    "# Multi-ítem con restricción de espacio"
   ]
  },
  {
   "cell_type": "markdown",
   "metadata": {
    "toc": true
   },
   "source": [
    "<h1>Table of Contents<span class=\"tocSkip\"></span></h1>\n",
    "<div class=\"toc\"><ul class=\"toc-item\"><li><ul class=\"toc-item\"><li><span><a href=\"#____\" data-toc-modified-id=\"____-0.1\"><span class=\"toc-item-num\">0.1&nbsp;&nbsp;</span>____</a></span></li></ul></li><li><span><a href=\"#Introducción:\" data-toc-modified-id=\"Introducción:-1\"><span class=\"toc-item-num\">1&nbsp;&nbsp;</span>Introducción:</a></span></li><li><span><a href=\"#Aplicación-en-Python:\" data-toc-modified-id=\"Aplicación-en-Python:-2\"><span class=\"toc-item-num\">2&nbsp;&nbsp;</span>Aplicación en Python:</a></span></li><li><span><a href=\"#Ejemplo\" data-toc-modified-id=\"Ejemplo-3\"><span class=\"toc-item-num\">3&nbsp;&nbsp;</span>Ejemplo</a></span><ul class=\"toc-item\"><li><span><a href=\"#Resolución-para-un-conjunto-de-lambdas-a-fuerza-bruta\" data-toc-modified-id=\"Resolución-para-un-conjunto-de-lambdas-a-fuerza-bruta-3.1\"><span class=\"toc-item-num\">3.1&nbsp;&nbsp;</span>Resolución para un conjunto de lambdas a fuerza bruta</a></span></li><li><span><a href=\"#Método-del-gradiente-para-buscar-$\\lambda$\" data-toc-modified-id=\"Método-del-gradiente-para-buscar-$\\lambda$-3.2\"><span class=\"toc-item-num\">3.2&nbsp;&nbsp;</span>Método del gradiente para buscar $\\lambda$</a></span></li></ul></li></ul></div>"
   ]
  },
  {
   "cell_type": "markdown",
   "metadata": {},
   "source": [
    "## Introducción:\n",
    "Se tienen 'm' ítems con restricción de volumen total 'S'. Es decir, los ítems compiten por ocupar un espacio finito.\n",
    "El modelo que respresenta esta situación es el siguiente:\n",
    "\n",
    "$ min_{q_i} \\quad Z = CTE(q_1, q_2, ..., q_m)$\n",
    "\n",
    "$ s.t.$\n",
    "\n",
    "$ \\quad q_1s_1 + q_2s_2 + ... + q_ms_m \\leq S $\n",
    "\n",
    "Se decide aplicar el método de relajación de Lagrange para resolver múltiples problemas más simples, y encontrar el óptimo entre todos ellos. Cada problema estará afectado por un multiplicador de Lagrange $\\lambda$.\n",
    "\n",
    "Siendo:\n",
    "\n",
    "$f = CTE(q_1, q_2, ..., q_m)$\n",
    "\n",
    "$g = (q_1s_1 + q_2s_2 + ... + q_ms_m - S)$\n",
    "\n",
    "El modelo relajado será el siguiente:\n",
    "\n",
    "$ L(\\lambda) = min_{q_i} \\quad Z_{relax} = f + \\lambda g $\n",
    "\n",
    "Como decíamos antes, existe un lambda para cada problema relajado. No todos los $\\lambda$ arrojan resultados válidos, ya que este multiplicador penaliza la violación de la restricción que ahora forma parte de la función objetivo. La idea es encontrar el $\\lambda$ que optimice la función primal cumpliendo con la región factible.\n",
    "\n",
    "El problema original es cuadrático, pero es fácilmente demostrable que es convexo y por lo tanto cuenta con un óptimo global.\n",
    "\n",
    "Se busca un $\\lambda$ que maximice el $L$, teniendo en cuenta que debe minimizarse respecto a la cantidad, es decir, buscar la cantidad óptima.\n",
    "\n",
    "Por lo tanto: \n",
    "\n",
    "$max_{\\lambda} \\ L(\\lambda)$\n",
    "\n",
    "$L(\\lambda) = min_{q_i} \\ Z_{relax}$\n",
    "\n",
    "$Z_{relax} = f + \\lambda g $\n",
    "\n",
    "El modelo anterior, expresado en una línea sería: $max_{\\lambda} min_{q_i} f + \\lambda g $"
   ]
  },
  {
   "cell_type": "markdown",
   "metadata": {},
   "source": [
    "## Aplicación en Python:\n",
    "Inicializamos la librerías necesarias y cargamos las funciones asociadas a las expresiones introducidas en el apartado anterior.\n",
    "\n",
    "En el caso de $g$ elegimos hacer producto matricial con el operador '@' que es el dot product. En python estas operaciones son mucho mas rápidas que el clásico for loop.\n",
    "\n",
    "Para el $f$, a modo didáctico, explicamos cómo vectorizar una función. Obviamente, tanto $g$ como $f$ podrían hacerse con for loop y, a pesar de la pérdida de rendimiento, en estos ejemplos introductorios no se podría percibir la diferencia. Se hace de esta forma para poder mostrar una manera diferente y práctica de encarar soluciones con python."
   ]
  },
  {
   "cell_type": "code",
   "execution_count": 1,
   "metadata": {},
   "outputs": [],
   "source": [
    "import math\n",
    "import numpy as np\n",
    "import matplotlib.pyplot as plt"
   ]
  },
  {
   "cell_type": "code",
   "execution_count": 2,
   "metadata": {},
   "outputs": [],
   "source": [
    "# Cantidad óptima:\n",
    "def calcular_qopt(K, D, T, c1, s_i, lmbd):\n",
    "    return math.sqrt((2 * K * D) / (T * c1 + 2 * lmbd *s_i))\n",
    "\n",
    "# Restricción:\n",
    "def calcular_g(vect_s, vect_q, S):\n",
    "    return vect_s @ vect_q - S\n",
    "\n",
    "def calcular_f_i(b_i, d_i, q_i, c1_i, t, k_i):\n",
    "    return b_i * d_i + 0.5 * q_i * c1_i * t + k_i * (d_i / q_i)\n",
    "\n",
    "# Objetivo primal:\n",
    "def calcular_f(vect_b, vect_d, vect_q, vect_c1, t, vect_k):\n",
    "    # Vectorizar la funcion:\n",
    "    calcular_f_i_vectorizada =  np.vectorize(calcular_f_i)\n",
    "    \n",
    "    # Calcularmos f_i con la función vectorizada, mismos inputs que calcular_f_i pero \n",
    "    # en vectores con todos los valores.\n",
    "    vector_f_i = calcular_f_i_vectorizada(vect_b, vect_d, vect_q, vect_c1, t, vect_k)\n",
    "    \n",
    "    # Nos devuelve un vector con cada f_i que tenemos que sumar y retornar:\n",
    "    return np.sum(vector_f_i)\n",
    "\n",
    "# Lagrangiano:\n",
    "def calcular_L(f_q, g_q, lmbd):\n",
    "    return f_q + lmbd * g_q"
   ]
  },
  {
   "cell_type": "markdown",
   "metadata": {},
   "source": [
    "## Ejemplo\n",
    "El siguiente ejemplo considera dos productos simples. Puede fácilmente extenderse a $n$ productos sin hacer mayores cambios."
   ]
  },
  {
   "cell_type": "code",
   "execution_count": 3,
   "metadata": {},
   "outputs": [],
   "source": [
    "# Ejemplo:\n",
    "# S = 150\n",
    "S = 10\n",
    "\n",
    "diasmes = 30\n",
    "t = 1 # período de análisis\n",
    "interes = 0.1 # anual\n",
    "\n",
    "# Datos producto 1:\n",
    "b_1 = 30 #costo por producto\n",
    "alquiler_1 = 30 # diario\n",
    "compra_1 = 100 # unidad \n",
    "calidadrecepcion_1 = 200 # pedido\n",
    "demanda_1 = 3000 # por año\n",
    "k_1 = calidadrecepcion_1 + compra_1 # costo de orden\n",
    "d_1 = demanda_1 # demanda\n",
    "c1_1 = b_1 * interes + (alquiler_1 * diasmes * 12) # costo unitario\n",
    "s_1 = 10\n",
    "\n",
    "# Datos producto 2:\n",
    "b_2 = 40 #costo por producto\n",
    "alquiler_2 = 40 # diario\n",
    "compra_2 = 150 # unidad \n",
    "calidadrecepcion_2 = 250 # pedido\n",
    "demanda_2 = 4300 # por año\n",
    "k_2 = calidadrecepcion_2 + compra_2 # costo de orden\n",
    "d_2 = demanda_2 # demanda\n",
    "c1_2 = b_2 * interes + (alquiler_2 * diasmes * 12) # costo unitario\n",
    "s_2 = 15\n",
    "\n",
    "# Construcción de vectores de datos:\n",
    "vect_s = np.array([s_1, s_2])\n",
    "vect_b = np.array([b_1, b_2])\n",
    "vect_d = np.array([d_1, d_2])\n",
    "vect_c1 = np.array([c1_1, c1_2])\n",
    "vect_k = np.array([k_1, k_2])"
   ]
  },
  {
   "cell_type": "markdown",
   "metadata": {},
   "source": [
    "### Resolución para un conjunto de lambdas a fuerza bruta\n",
    "Creamos un array de lambdas equidistantes, vamos a resolver múltiples $L(\\lambda)$ para cada \\lambda. De todos ellos vamos a seleccionar el mayor, que refiere al mínimo del modelo primal para el lambda que hace cumplir la restricción.\n",
    "\n",
    "En un for loop, iteramos en cada \\lambda y resolvemos: cantidad óptima y $L(\\lambda)$."
   ]
  },
  {
   "cell_type": "code",
   "execution_count": 4,
   "metadata": {},
   "outputs": [
    {
     "name": "stdout",
     "output_type": "stream",
     "text": [
      "RESULTADOS:\n",
      "El lambda óptimo es: 652000.00\n",
      "Las cantidades óptimas son: 0.37, 0.42\n",
      "El CTE óptimo es: 6793348.15\n"
     ]
    }
   ],
   "source": [
    "lmbds = np.array(range(0, 1_000_000, 1000))\n",
    "L = np.zeros(lmbds.shape)\n",
    "\n",
    "for i, lmbd_i in enumerate(lmbds):\n",
    "    # Cálculo de cada cantidad óptima:\n",
    "    q1_opt = calcular_qopt(k_1, d_1, t, c1_1, s_1, lmbd_i)\n",
    "    q2_opt = calcular_qopt(k_2, d_2, t, c1_2, s_2, lmbd_i)\n",
    "\n",
    "    # Construcción de arrays de q:\n",
    "    vect_q_opt = np.array([q1_opt, q2_opt])\n",
    "\n",
    "    # Cálculo de g y f:\n",
    "    g = calcular_g(vect_q_opt, vect_s, S)\n",
    "    f = calcular_f(vect_b, vect_d, vect_q_opt, vect_c1, t, vect_k)\n",
    "\n",
    "    # Cálculo del lagrangiano:\n",
    "    L[i] = calcular_L(f, g, lmbd_i)\n",
    "    \n",
    "# Máximo:\n",
    "max_index = np.argmax(L)\n",
    "L_max = L[max_index]\n",
    "lmbd_max = lmbds[max_index]\n",
    "\n",
    "# Resultados:\n",
    "print('RESULTADOS:')\n",
    "print(f'El lambda óptimo es: {lmbd_max:.2f}')\n",
    "\n",
    "q1_opt = calcular_qopt(k_1, d_1, t, c1_1, s_1, lmbd_max)\n",
    "q2_opt = calcular_qopt(k_2, d_2, t, c1_2, s_2, lmbd_max)\n",
    "vect_q_opt = np.array([q1_opt, q2_opt])\n",
    "print(f'Las cantidades óptimas son: {q1_opt:.2f}, {q2_opt:.2f}')\n",
    "\n",
    "f = calcular_f(vect_b, vect_d, vect_q_opt, vect_c1, t, vect_k)\n",
    "print(f'El CTE óptimo es: {f:.2f}')"
   ]
  },
  {
   "cell_type": "markdown",
   "metadata": {},
   "source": [
    "Se procede a plotear los resultados en una curva que muestra $L$ en función de $\\lambda$. Marcamos el punto de cantidad óptima."
   ]
  },
  {
   "cell_type": "code",
   "execution_count": 5,
   "metadata": {},
   "outputs": [
    {
     "data": {
      "image/png": "[encoded data removed]",
      "text/plain": [
       "<Figure size 720x504 with 1 Axes>"
      ]
     },
     "metadata": {
      "needs_background": "light"
     },
     "output_type": "display_data"
    }
   ],
   "source": [
    "# Subplots:\n",
    "\n",
    "fig, ax = plt.subplots(figsize=(10,7))\n",
    "\n",
    "ax.plot(lmbds, L, 'm--', label='Lagrangiano respecto de cada $\\lambda$')\n",
    "\n",
    "ax.set_xlabel('$\\lambda$')\n",
    "ax.set_ylabel('Lagrangiano')\n",
    "\n",
    "ax.plot(lmbd_max, L_max, 'r', marker='o') # punto óptimo\n",
    "ax.plot([0, lmbd_max], [L_max, L_max], 'k:')\n",
    "ax.plot([lmbd_max, lmbd_max], [L_max*(1-0.2), L_max], 'k:')\n",
    "ax.annotate(f'({lmbd_max:.2f}, {L_max:.2f})', (lmbd_max*(1+0.1), L_max*(1-0.1)))\n",
    "\n",
    "plt.show()"
   ]
  },
  {
   "cell_type": "markdown",
   "metadata": {},
   "source": [
    "### Método del gradiente para buscar $\\lambda$\n",
    "\n",
    "Se evita buscar el multiplicador de manera forzosa. Para lograr este objetivo, elegimos aplicar el método del gradiente en su forma más simple, es decir, teniendo en cuenta muchas suposiciones y un paso de búsqueda constante.\n",
    "\n",
    "Sabemos que el problema tiene un sólo óptimo global en un espacio de búsqueda convexo. A partir de un punto inicial de búsqueda, vamos a dirigirnos en la dirección del gradiente respecto de \\lambda del Lagrangiano $L(\\lambda)$ para actualizar sucesivos valores de \\lambda. Una vez que dos valores de $\\lambda$ consecutivos no muestren cambios, el procedimiento finaliza.\n",
    "\n",
    "El algoritmo sería el siguiente:\n",
    "\n",
    "- Inicializar $\\lambda$. Dado que habíamos encontrado un valor parcial de lambda anteriormente, usamos uno cercano para iniciar la búsqueda. Esto igualmente, no es obligatorio.\n",
    "- Calcular el valor del Lagrangiano dado el $\\lambda$ actual.\n",
    "- Calcular el gradiente del Lagrangiano $ \\nabla{L(\\lambda)}$. Resulta ser el mismo valor que $g$\n",
    "- Actualizar el valor de $\\lambda$ para la próxima iteración: $\\lambda_{i+1} = \\lambda_i + step * \\nabla{L(\\lambda)}$\n",
    "- Calculamos la diferencia entre lambdas sucesivos: $\\Delta \\lambda = | \\lambda_{i+1} - \\lambda_{i} |$\n",
    "- Si la diferencia es menor que una tolerancia dada, cortamos el algoritmo.\n",
    "\n",
    "En este caso la función de búsqueda es diferenciable, por lo tanto podríamos omitir la tolerancia e ir a buscar una diferencia de \\lambda sucesivos igual a cero. Sin embargo, es preferible tener controlado el corte y no depender de una convergencia que puede resultar muy larga.\n",
    "\n",
    "*Nota: En caso de no ser diferenciable la función, el método puede aplicarse igual, pero en este caso se calcula el Subgradiente. Es el mismo procedimiento pero el gradiente es válido en cada trozo de la función. No pueden encontrarse diferencias de \\lambda iguales a cero y debe controlarse una tolerancia.*"
   ]
  },
  {
   "cell_type": "code",
   "execution_count": 6,
   "metadata": {},
   "outputs": [
    {
     "name": "stdout",
     "output_type": "stream",
     "text": [
      "RESULTADOS:\n",
      "El lambda óptimo es: 650956.34\n",
      "Las cantidades óptimas son: 0.37, 0.42\n",
      "El CTE óptimo es: 6788130.25\n"
     ]
    }
   ],
   "source": [
    "def gradiente_L(vect_s, vect_q, S):\n",
    "    return vect_s @ vect_q - S\n",
    "\n",
    "lmbd_0 = 0\n",
    "step = 10 # paso fijo, sólo funciona en estos casos simples. Referirse a \"métodos de paso adaptativo\"\n",
    "tol = 10e-2\n",
    "i = 0\n",
    "lmbd_i = lmbd_0\n",
    "lmbd_array = []\n",
    "L = []\n",
    "diff = np.inf\n",
    "qopt_array = []\n",
    "\n",
    "while diff > tol:\n",
    "    # Cálculo de cada cantidad óptima:\n",
    "    q1_opt = calcular_qopt(k_1, d_1, t, c1_1, s_1, lmbd_i)\n",
    "    q2_opt = calcular_qopt(k_2, d_2, t, c1_2, s_2, lmbd_i)\n",
    "\n",
    "    # Construcción de arrays de q:\n",
    "    vect_q_opt = np.array([q1_opt, q2_opt])\n",
    "    \n",
    "    qopt_array.append(vect_q_opt)\n",
    "\n",
    "    # Cálculo de g y f:\n",
    "    g = calcular_g(vect_q_opt, vect_s, S)\n",
    "    f = calcular_f(vect_b, vect_d, vect_q_opt, vect_c1, t, vect_k)\n",
    "\n",
    "    # Cálculo del lagrangiano:\n",
    "    L.append(calcular_L(f, g, lmbd_i))\n",
    "    \n",
    "    # Nuevo lambda:\n",
    "    lmbd_old = lmbd_i\n",
    "    lmbd_array.append(lmbd_old)\n",
    "    lmbd_i = max(lmbd_i + step * gradiente_L(vect_q_opt, vect_s, S), 0) # lambda positivo\n",
    "    \n",
    "    # Chequeo de convergencia:\n",
    "    diff = abs(lmbd_i - lmbd_old)\n",
    "    \n",
    "    i+=1\n",
    "    \n",
    "# Resultados:\n",
    "print('RESULTADOS:')\n",
    "print(f'El lambda óptimo es: {lmbd_i:.2f}')\n",
    "print(f'Las cantidades óptimas son: {q1_opt:.2f}, {q2_opt:.2f}')\n",
    "print(f'El CTE óptimo es: {f:.2f}')\n"
   ]
  },
  {
   "cell_type": "markdown",
   "metadata": {},
   "source": [
    "Ploteamos los sucesivos $\\lambda$ respecto del número de iteraciones."
   ]
  },
  {
   "cell_type": "code",
   "execution_count": 7,
   "metadata": {},
   "outputs": [
    {
     "data": {
      "image/png": "[encoded data removed]",
      "text/plain": [
       "<Figure size 720x504 with 1 Axes>"
      ]
     },
     "metadata": {
      "needs_background": "light"
     },
     "output_type": "display_data"
    }
   ],
   "source": [
    "fig, ax = plt.subplots(figsize=(10,7))\n",
    "\n",
    "ax.plot(range(0, i), lmbd_array, 'b', label='Lagrangiano respecto de cada $\\lambda$')\n",
    "\n",
    "ax.set_xlabel('$iteración$')\n",
    "ax.set_ylabel('$\\lambda$')\n",
    "ax.plot([0, i], [lmbd_i, lmbd_i], 'k:')\n",
    "ax.annotate(f'(iteración: {i:.2f}, $\\lambda *$: {lmbd_i:.2f})', (i-30, lmbd_i+1))\n",
    "\n",
    "plt.show()"
   ]
  },
  {
   "cell_type": "markdown",
   "metadata": {},
   "source": [
    "Vamos a plotear el resultado de utilización del espacio de cada producto para cada $\\lambda_i$"
   ]
  },
  {
   "cell_type": "code",
   "execution_count": 18,
   "metadata": {},
   "outputs": [
    {
     "data": {
      "image/png": "[encoded data removed]",
      "text/plain": [
       "<Figure size 720x504 with 1 Axes>"
      ]
     },
     "metadata": {
      "needs_background": "light"
     },
     "output_type": "display_data"
    }
   ],
   "source": [
    "# Creamos dos listas a partir de la lista de tuplas de soluciones:\n",
    "q_opts = list(zip(*qopt_array))\n",
    "\n",
    "# Creamos y ploteamos la figura:\n",
    "fig2, ax2 = plt.subplots(figsize=(10,7))\n",
    "\n",
    "xx = list(np.array(range(1, i, 1000)).astype(int))\n",
    "\n",
    "q2pq1graph = [q_opt1*s_1+q_opt2*s_2 for (q_opt1, q_opt2) in [qopt_array[i] for i in xx]]\n",
    "q1graph = [q_opts[0][i]*s_1 for i in xx]\n",
    "\n",
    "ax2.plot(xx, q2pq1graph, color='r', label='Producto 2 + Producto 1')\n",
    "ax2.plot(xx, q1graph, color='b', label='Producto 1')\n",
    "ax2.plot(xx, [S]*len(xx), linestyle='--', label='Capacidad')\n",
    "ax2.legend()\n",
    "\n",
    "ax2.set_ylim((0, 15))\n",
    "\n",
    "ax2.set_xlabel('$iteración$')\n",
    "ax2.set_ylabel('Espacio consumido')\n",
    "\n",
    "plt.show()"
   ]
  },
  {
   "cell_type": "code",
   "execution_count": 15,
   "metadata": {},
   "outputs": [
    {
     "data": {
      "text/plain": [
       "[127.56822885624706,\n",
       " 11.55361330795914,\n",
       " 10.566117425913646,\n",
       " 10.240433822062004,\n",
       " 10.107545954676137,\n",
       " 10.049139411761317,\n",
       " 10.022663824815238,\n",
       " 10.010497393320083]"
      ]
     },
     "execution_count": 15,
     "metadata": {},
     "output_type": "execute_result"
    }
   ],
   "source": [
    "xx\n",
    "q2pq1graph"
   ]
  },
  {
   "cell_type": "code",
   "execution_count": null,
   "metadata": {},
   "outputs": [],
   "source": []
  }
 ],
 "metadata": {
  "kernelspec": {
   "display_name": "Python 3",
   "language": "python",
   "name": "python3"
  },
  "language_info": {
   "codemirror_mode": {
    "name": "ipython",
    "version": 3
   },
   "file_extension": ".py",
   "mimetype": "text/x-python",
   "name": "python",
   "nbconvert_exporter": "python",
   "pygments_lexer": "ipython3",
   "version": "3.8.5"
  },
  "toc": {
   "base_numbering": 1,
   "nav_menu": {},
   "number_sections": true,
   "sideBar": true,
   "skip_h1_title": true,
   "title_cell": "Table of Contents",
   "title_sidebar": "Contents",
   "toc_cell": true,
   "toc_position": {},
   "toc_section_display": true,
   "toc_window_display": true
  },
  "varInspector": {
   "cols": {
    "lenName": 16,
    "lenType": 16,
    "lenVar": 40
   },
   "kernels_config": {
    "python": {
     "delete_cmd_postfix": "",
     "delete_cmd_prefix": "del ",
     "library": "var_list.py",
     "varRefreshCmd": "print(var_dic_list())"
    },
    "r": {
     "delete_cmd_postfix": ") ",
     "delete_cmd_prefix": "rm(",
     "library": "var_list.r",
     "varRefreshCmd": "cat(var_dic_list()) "
    }
   },
   "types_to_exclude": [
    "module",
    "function",
    "builtin_function_or_method",
    "instance",
    "_Feature"
   ],
   "window_display": false
  }
 },
 "nbformat": 4,
 "nbformat_minor": 2
}
