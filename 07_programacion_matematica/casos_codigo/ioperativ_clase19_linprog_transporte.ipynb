{
  "nbformat": 4,
  "nbformat_minor": 0,
  "metadata": {
    "colab": {
      "name": "ioperativ_clase19_linprog_transporte.ipynb",
      "provenance": []
    },
    "kernelspec": {
      "name": "python3",
      "display_name": "Python 3"
    },
    "language_info": {
      "name": "python"
    }
  },
  "cells": [
    {
      "cell_type": "markdown",
      "metadata": {
        "id": "1LhK4an-YaFe"
      },
      "source": [
        "-----------------------------------\n",
        "#### **Programacion Lineal con Python: Caso transporte**\n",
        "**Universidad Tecnologica Nacional - Facultad Buenos Aires** <br>\n",
        "**Ingenieria Industrial**<br>\n",
        "**Investigacion Operativa** <br>\n",
        "Autor: Martin Palazzo <br>\n",
        "Curso I4051 <br>\n",
        "\n"
      ]
    },
    {
      "cell_type": "code",
      "metadata": {
        "colab": {
          "base_uri": "https://localhost:8080/"
        },
        "id": "xTpy8WuSTsw_",
        "outputId": "1ded92e9-7eec-4a8a-8be3-36e750154854"
      },
      "source": [
        "#pip install pulp"
      ],
      "execution_count": 1,
      "outputs": [
        {
          "output_type": "stream",
          "name": "stdout",
          "text": [
            "Requirement already satisfied: pulp in /usr/local/lib/python3.7/dist-packages (2.5.0)\n"
          ]
        }
      ]
    },
    {
      "cell_type": "code",
      "metadata": {
        "id": "qURNGWdGcIx6"
      },
      "source": [
        "import numpy as np\n",
        "import matplotlib.pyplot as plt\n",
        "import seaborn as sns\n",
        "import pandas as pd\n",
        "import pulp\n",
        "from pulp import *\n",
        "import scipy as sp\n",
        "from scipy import optimize"
      ],
      "execution_count": 2,
      "outputs": []
    },
    {
      "cell_type": "markdown",
      "metadata": {
        "id": "v6OYFEYNXYDz"
      },
      "source": [
        "La funcion objetivo del problema de transporte\n",
        "\n",
        "$$\\text{min z } = \\begin{matrix}\n",
        "464x_{11} + 513x_{12} + 654x_{13} + 867x_{14} \\\\\n",
        " + 352x_{21} + 416x_{22} + 690x_{23} + 791x_{24}\\\\\n",
        " + 995x_{31} + 682x_{32} + 388x_{33} + 685x_{34} \n",
        "\\end{matrix}\n",
        "$$\n",
        "\n",
        "sujeto a las restricciones de oferta\n",
        "\n",
        "\n",
        "$$\n",
        "x_{11} + x_{12} + x_{13} + x_{14} = 75\\\\\n",
        "x_{21} + x_{22} + x_{23} + x_{24} = 125\\\\\n",
        "x_{31} + x_{32} + x_{33} + x_{34} = 100\n",
        "$$\n",
        "\n",
        "y de demanda\n",
        "\n",
        "$$\n",
        "x_{11} + x_{21} + x_{31}  = 80\\\\\n",
        "x_{12} + x_{22} + x_{32}  = 65\\\\\n",
        "x_{13} + x_{23} + x_{33}  = 70\\\\\n",
        "x_{14} + x_{24} + x_{34}  = 85\n",
        "$$"
      ]
    },
    {
      "cell_type": "code",
      "metadata": {
        "id": "fnPqdPAwTyqx"
      },
      "source": [
        "# definimos si es un problema de minimizacion o maximizacion\n",
        "transport_ = LpProblem(\"Transporte\", LpMinimize)\n",
        "\n",
        "# definimos las variables de decision, el tipo de variable y la cota inferior\n",
        "x1 = LpVariable('x1', lowBound=0, cat='Continuous')\n",
        "x2 = LpVariable('x2', lowBound=0, cat='Continuous')\n",
        "x3 = LpVariable('x3', lowBound=0, cat='Continuous')\n",
        "x4 = LpVariable('x4', lowBound=0, cat='Continuous')\n",
        "x5 = LpVariable('x5', lowBound=0, cat='Continuous')\n",
        "x6 = LpVariable('x6', lowBound=0, cat='Continuous')\n",
        "x7 = LpVariable('x7', lowBound=0, cat='Continuous')\n",
        "x8 = LpVariable('x8', lowBound=0, cat='Continuous')\n",
        "x9 = LpVariable('x9', lowBound=0, cat='Continuous')\n",
        "x10 = LpVariable('x10', lowBound=0, cat='Continuous')\n",
        "x11 = LpVariable('x11', lowBound=0, cat='Continuous')\n",
        "x12 = LpVariable('x12', lowBound=0, cat='Continuous')\n"
      ],
      "execution_count": 5,
      "outputs": []
    },
    {
      "cell_type": "code",
      "metadata": {
        "id": "HfubfzHDT95E"
      },
      "source": [
        "# primero agregamos la funcion objetivo\n",
        "transport_ += 464*x1 + 513*x2 + 654*x3 + 867*x4 + 352*x5 + 416*x6 + 690*x7 + 791*x8 + 995*x9 + 682*x10 + 388*x11 + 685*x12, \"Funcion objetivo\"\n",
        "\n",
        "# luego agregamos restricciones\n",
        "transport_ += x1 + x2 + x3 + x4 == 75, \"oferta 1\"\n",
        "transport_ += x5 + x6 + x7 + x8 == 125, \"oferta 2\"\n",
        "transport_ += x9 + x10 + x11 + x12 == 100, \"oferta 3\"\n",
        "transport_ += x1 + x5 + x9  == 80, \"Demanda 1 \"\n",
        "transport_ += x2 + x6 + x10  == 65, \"Demanda 2 \"\n",
        "transport_ += x3 + x7 + x11  == 70, \"Demanda 3 \"\n",
        "transport_ += x4 + x8 + x12  == 85, \"Demanda 4 \""
      ],
      "execution_count": 6,
      "outputs": []
    },
    {
      "cell_type": "code",
      "metadata": {
        "colab": {
          "base_uri": "https://localhost:8080/"
        },
        "id": "zz2ThpbLW7Ug",
        "outputId": "0894ab50-7a7b-4bcd-beea-0e0d2aeb36b8"
      },
      "source": [
        "# Resolver el problema con el solver de PULP\n",
        "transport_.solve()"
      ],
      "execution_count": 7,
      "outputs": [
        {
          "output_type": "execute_result",
          "data": {
            "text/plain": [
              "1"
            ]
          },
          "metadata": {},
          "execution_count": 7
        }
      ]
    },
    {
      "cell_type": "code",
      "metadata": {
        "colab": {
          "base_uri": "https://localhost:8080/"
        },
        "id": "_DoEc6l3XBiT",
        "outputId": "5f046c03-d374-4b32-b397-0f029a8e123a"
      },
      "source": [
        "# valor de la funcion objetivo\n",
        "value(transport_.objective)"
      ],
      "execution_count": 8,
      "outputs": [
        {
          "output_type": "execute_result",
          "data": {
            "text/plain": [
              "152535.0"
            ]
          },
          "metadata": {},
          "execution_count": 8
        }
      ]
    },
    {
      "cell_type": "code",
      "metadata": {
        "id": "5sc_McPJXCX8"
      },
      "source": [
        "# obtenemos el valor de la variable de decision X1....X12 en el punto optimo\n",
        "solucion = np.array([[transport_.variables()[0].varValue,\n",
        "transport_.variables()[1].varValue,\n",
        "transport_.variables()[2].varValue,\n",
        "transport_.variables()[3].varValue],\n",
        "[transport_.variables()[4].varValue,\n",
        "transport_.variables()[5].varValue,\n",
        "transport_.variables()[6].varValue,\n",
        "transport_.variables()[7].varValue],\n",
        "[transport_.variables()[8].varValue,\n",
        "transport_.variables()[9].varValue,\n",
        "transport_.variables()[10].varValue,\n",
        "transport_.variables()[11].varValue]])"
      ],
      "execution_count": 14,
      "outputs": []
    },
    {
      "cell_type": "code",
      "metadata": {
        "colab": {
          "base_uri": "https://localhost:8080/",
          "height": 418
        },
        "id": "gwxfY9rnYlba",
        "outputId": "58ef57d0-7385-4f19-ba09-e02dceab4184"
      },
      "source": [
        "plt.figure(figsize=(10, 6))\n",
        "sns.set_context('talk', font_scale = 0.8)\n",
        "sns.heatmap(solucion,annot = True)\n",
        "plt.ylabel('origen')\n",
        "plt.xlabel('destino')\n",
        "plt.title('Solucion problema transporte')\n",
        "plt.show()"
      ],
      "execution_count": 30,
      "outputs": [
        {
          "output_type": "display_data",
          "data": {
            "image/png": "[encoded data removed]",
            "text/plain": [
              "<Figure size 720x432 with 2 Axes>"
            ]
          },
          "metadata": {
            "needs_background": "light"
          }
        }
      ]
    }
  ]
}