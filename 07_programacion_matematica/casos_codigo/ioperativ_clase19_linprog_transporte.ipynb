{
  "nbformat": 4,
  "nbformat_minor": 0,
  "metadata": {
    "colab": {
      "name": "ioperativ_clase19_linprog_transporte.ipynb",
      "provenance": [],
      "collapsed_sections": []
    },
    "kernelspec": {
      "name": "python3",
      "display_name": "Python 3"
    },
    "language_info": {
      "name": "python"
    }
  },
  "cells": [
    {
      "cell_type": "markdown",
      "metadata": {
        "id": "1LhK4an-YaFe"
      },
      "source": [
        "-----------------------------------\n",
        "#### **Programacion Lineal con Python: Caso transporte**\n",
        "**Universidad Tecnologica Nacional - Facultad Buenos Aires** <br>\n",
        "**Ingenieria Industrial**<br>\n",
        "**Investigacion Operativa** <br>\n",
        "Autor: Martin Palazzo <br>\n",
        "Curso I4051 <br>\n",
        "\n"
      ]
    },
    {
      "cell_type": "code",
      "metadata": {
        "id": "xTpy8WuSTsw_",
        "colab": {
          "base_uri": "https://localhost:8080/"
        },
        "outputId": "93039af8-710b-4117-d652-4790e4e65cef"
      },
      "source": [
        "pip install pulp"
      ],
      "execution_count": 1,
      "outputs": [
        {
          "output_type": "stream",
          "name": "stdout",
          "text": [
            "Collecting pulp\n",
            "  Downloading PuLP-2.5.0-py3-none-any.whl (41.2 MB)\n",
            "\u001b[K     |████████████████████████████████| 41.2 MB 75 kB/s \n",
            "\u001b[?25hInstalling collected packages: pulp\n",
            "Successfully installed pulp-2.5.0\n"
          ]
        }
      ]
    },
    {
      "cell_type": "code",
      "metadata": {
        "id": "qURNGWdGcIx6"
      },
      "source": [
        "import numpy as np\n",
        "import matplotlib.pyplot as plt\n",
        "import seaborn as sns\n",
        "import pandas as pd\n",
        "import pulp\n",
        "from pulp import *\n",
        "import scipy as sp\n",
        "from scipy import optimize"
      ],
      "execution_count": 2,
      "outputs": []
    },
    {
      "cell_type": "markdown",
      "metadata": {
        "id": "v6OYFEYNXYDz"
      },
      "source": [
        "La funcion objetivo del problema de transporte\n",
        "\n",
        "$$\\text{min z } = \\begin{matrix}\n",
        "464x_{11} + 513x_{12} + 654x_{13} + 867x_{14} \\\\\n",
        " + 352x_{21} + 416x_{22} + 690x_{23} + 791x_{24}\\\\\n",
        " + 995x_{31} + 682x_{32} + 388x_{33} + 685x_{34} \n",
        "\\end{matrix}\n",
        "$$\n",
        "\n",
        "sujeto a las restricciones de oferta\n",
        "\n",
        "\n",
        "$$\n",
        "x_{11} + x_{12} + x_{13} + x_{14} = 75\\\\\n",
        "x_{21} + x_{22} + x_{23} + x_{24} = 125\\\\\n",
        "x_{31} + x_{32} + x_{33} + x_{34} = 100\n",
        "$$\n",
        "\n",
        "y de demanda\n",
        "\n",
        "$$\n",
        "x_{11} + x_{21} + x_{31}  = 80\\\\\n",
        "x_{12} + x_{22} + x_{32}  = 65\\\\\n",
        "x_{13} + x_{23} + x_{33}  = 70\\\\\n",
        "x_{14} + x_{24} + x_{34}  = 85\n",
        "$$"
      ]
    },
    {
      "cell_type": "code",
      "metadata": {
        "id": "fnPqdPAwTyqx"
      },
      "source": [
        "import pulp\n",
        "# definimos si es un problema de minimizacion o maximizacion\n",
        "transport_ = LpProblem(\"Transporte\", LpMinimize)\n",
        "\n",
        "# definimos las variables de decision, el tipo de variable y la cota inferior\n",
        "x11 = LpVariable('x11', lowBound=0, cat='Continuous')\n",
        "x12 = LpVariable('x12', lowBound=0, cat='Continuous')\n",
        "x13 = LpVariable('x13', lowBound=0, cat='Continuous')\n",
        "x14 = LpVariable('x14', lowBound=0, cat='Continuous')\n",
        "x21 = LpVariable('x21', lowBound=0, cat='Continuous')\n",
        "x22 = LpVariable('x22', lowBound=0, cat='Continuous')\n",
        "x23 = LpVariable('x23', lowBound=0, cat='Continuous')\n",
        "x24 = LpVariable('x24', lowBound=0, cat='Continuous')\n",
        "x31 = LpVariable('x31', lowBound=0, cat='Continuous')\n",
        "x32 = LpVariable('x32', lowBound=0, cat='Continuous')\n",
        "x33 = LpVariable('x33', lowBound=0, cat='Continuous')\n",
        "x34 = LpVariable('x34', lowBound=0, cat='Continuous')\n"
      ],
      "execution_count": 3,
      "outputs": []
    },
    {
      "cell_type": "code",
      "metadata": {
        "id": "HfubfzHDT95E"
      },
      "source": [
        "# primero agregamos la funcion objetivo\n",
        "transport_ += 464*x11 + 513*x12 + 654*x13 + 867*x14 + 352*x21 + 416*x22 + 690*x23 + 791*x24 + 995*x31 + 682*x32 + 388*x33 + 685*x34, \"Funcion objetivo\"\n",
        "\n",
        "# luego agregamos restricciones\n",
        "transport_ += x11 + x12 + x13 + x14 == 75, \"oferta 1\"\n",
        "#transport_ += x1 + x2 + x3 + x4 == 75, \"oferta 1_\"\n",
        "transport_ += x21 + x22 + x23 + x24 == 125, \"oferta 2\"\n",
        "transport_ += x31 + x32 + x33 + x34 == 100, \"oferta 3\"\n",
        "transport_ += x11 + x21 + x31  == 80, \"Demanda 1 \"\n",
        "transport_ += x12 + x22 + x32  == 65, \"Demanda 2 \"\n",
        "transport_ += x13 + x23 + x33  == 70, \"Demanda 3 \"\n",
        "transport_ += x14 + x24 + x34  == 85, \"Demanda 4 \""
      ],
      "execution_count": 4,
      "outputs": []
    },
    {
      "cell_type": "code",
      "metadata": {
        "colab": {
          "base_uri": "https://localhost:8080/"
        },
        "id": "zz2ThpbLW7Ug",
        "outputId": "96633df8-0fe2-4564-df8b-7dc017aa5899"
      },
      "source": [
        "# Resolver el problema con el solver de PULP\n",
        "transport_.solve()"
      ],
      "execution_count": 5,
      "outputs": [
        {
          "output_type": "execute_result",
          "data": {
            "text/plain": [
              "1"
            ]
          },
          "metadata": {},
          "execution_count": 5
        }
      ]
    },
    {
      "cell_type": "code",
      "metadata": {
        "colab": {
          "base_uri": "https://localhost:8080/"
        },
        "id": "_DoEc6l3XBiT",
        "outputId": "18126b2d-81eb-4b06-debf-0ca22f088794"
      },
      "source": [
        "# valor de la funcion objetivo\n",
        "value(transport_.objective)"
      ],
      "execution_count": 6,
      "outputs": [
        {
          "output_type": "execute_result",
          "data": {
            "text/plain": [
              "152535.0"
            ]
          },
          "metadata": {},
          "execution_count": 6
        }
      ]
    },
    {
      "cell_type": "code",
      "metadata": {
        "id": "5sc_McPJXCX8"
      },
      "source": [
        "# obtenemos el valor de la variable de decision X1....X12 en el punto optimo\n",
        "solucion = np.array([[transport_.variables()[0].varValue,\n",
        "transport_.variables()[1].varValue,\n",
        "transport_.variables()[2].varValue,\n",
        "transport_.variables()[3].varValue],\n",
        "[transport_.variables()[4].varValue,\n",
        "transport_.variables()[5].varValue,\n",
        "transport_.variables()[6].varValue,\n",
        "transport_.variables()[7].varValue],\n",
        "[transport_.variables()[8].varValue,\n",
        "transport_.variables()[9].varValue,\n",
        "transport_.variables()[10].varValue,\n",
        "transport_.variables()[11].varValue]])"
      ],
      "execution_count": 7,
      "outputs": []
    },
    {
      "cell_type": "code",
      "metadata": {
        "colab": {
          "base_uri": "https://localhost:8080/",
          "height": 430
        },
        "id": "gwxfY9rnYlba",
        "outputId": "c67b4237-342d-4e97-8db7-407a754fc10c"
      },
      "source": [
        "plt.figure(figsize=(10, 6))\n",
        "sns.set_context('talk', font_scale = 1)\n",
        "sns.heatmap(solucion,annot = True)\n",
        "plt.ylabel('origen')\n",
        "plt.xlabel('destino')\n",
        "plt.title('Solucion problema transporte')\n",
        "plt.show()"
      ],
      "execution_count": 8,
      "outputs": [
        {
          "output_type": "display_data",
          "data": {
            "image/png": "[encoded data removed]",
            "text/plain": [
              "<Figure size 720x432 with 2 Axes>"
            ]
          },
          "metadata": {
            "needs_background": "light"
          }
        }
      ]
    },
    {
      "cell_type": "code",
      "metadata": {
        "id": "_93xaZMey6ed"
      },
      "source": [
        ""
      ],
      "execution_count": 8,
      "outputs": []
    }
  ]
}