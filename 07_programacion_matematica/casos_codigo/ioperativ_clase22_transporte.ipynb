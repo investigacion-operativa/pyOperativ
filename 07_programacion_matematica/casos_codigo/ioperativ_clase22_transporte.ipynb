{
 "cells": [
  {
   "cell_type": "markdown",
   "id": "73e0c225",
   "metadata": {},
   "source": [
    "-----------------------------------\n",
    "#### Ejercicio de asignación con PuLP\n",
    "**Universidad Tecnologica Nacional - Facultad Buenos Aires** <br>\n",
    "**Ingenieria Industrial**<br>\n",
    "**Investigacion Operativa** <br>\n",
    "Autor: Rodrigo Maranzana <br>\n",
    "Curso I4051 <br>\n",
    "\n"
   ]
  },
  {
   "cell_type": "markdown",
   "id": "bf5e8014",
   "metadata": {},
   "source": [
    "Dado el siguiente problema de programacion lineal resolverlo con PULP."
   ]
  },
  {
   "cell_type": "code",
   "execution_count": 1,
   "id": "a94724af",
   "metadata": {},
   "outputs": [],
   "source": [
    "# importamos la libreria PULP\n",
    "from pulp import *\n",
    "import numpy as np"
   ]
  },
  {
   "cell_type": "code",
   "execution_count": 2,
   "id": "8d1843ec",
   "metadata": {},
   "outputs": [
    {
     "name": "stderr",
     "output_type": "stream",
     "text": [
      "C:\\Users\\M_a_R\\anaconda3\\lib\\site-packages\\pulp\\pulp.py:1352: UserWarning: Spaces are not permitted in the name. Converted to '_'\n",
      "  warnings.warn(\"Spaces are not permitted in the name. Converted to '_'\")\n"
     ]
    }
   ],
   "source": [
    "# definimos si es un problema de minimizacion o maximizacion\n",
    "prob = LpProblem(\"Ejemplo de transporte\", LpMinimize)"
   ]
  },
  {
   "cell_type": "code",
   "execution_count": 3,
   "id": "b3740a6f",
   "metadata": {},
   "outputs": [],
   "source": [
    "# Costos\n",
    "C = np.array([50,  78,  85,  20, 0, 40,  35, 100,  90, 0, 55,  25,  60,  80, 0])\n",
    "\n",
    "# Término del lado derecho\n",
    "b = [250, 250, 100, -100, -200, -150, -100, -50]\n",
    "\n",
    "# Matriz nodo nodo\n",
    "NN = np.array(\n",
    "    [\n",
    "        [0, 0, 0, 1, 1, 1, 1, 1],\n",
    "        [0, 0, 0, 1, 1, 1, 1, 1],\n",
    "        [0, 0, 0, 1, 1, 1, 1, 1],\n",
    "        [0, 0, 0, 0, 0, 0, 0, 0],\n",
    "        [0, 0, 0, 0, 0, 0, 0, 0],\n",
    "        [0, 0, 0, 0, 0, 0, 0, 0],\n",
    "        [0, 0, 0, 0, 0, 0, 0, 0],\n",
    "        [0, 0, 0, 0, 0, 0, 0, 0],\n",
    "    ]\n",
    ")\n",
    "\n",
    "# Sets\n",
    "nodos_set = range(NN.shape[0])\n",
    "a_set = range(np.sum(NN))"
   ]
  },
  {
   "cell_type": "code",
   "execution_count": 4,
   "id": "3a0f3a30",
   "metadata": {},
   "outputs": [
    {
     "data": {
      "text/plain": [
       "array([[ 1,  1,  1,  1,  1,  0,  0,  0,  0,  0,  0,  0,  0,  0,  0],\n",
       "       [ 0,  0,  0,  0,  0,  1,  1,  1,  1,  1,  0,  0,  0,  0,  0],\n",
       "       [ 0,  0,  0,  0,  0,  0,  0,  0,  0,  0,  1,  1,  1,  1,  1],\n",
       "       [-1,  0,  0,  0,  0, -1,  0,  0,  0,  0, -1,  0,  0,  0,  0],\n",
       "       [ 0, -1,  0,  0,  0,  0, -1,  0,  0,  0,  0, -1,  0,  0,  0],\n",
       "       [ 0,  0, -1,  0,  0,  0,  0, -1,  0,  0,  0,  0, -1,  0,  0],\n",
       "       [ 0,  0,  0, -1,  0,  0,  0,  0, -1,  0,  0,  0,  0, -1,  0],\n",
       "       [ 0,  0,  0,  0, -1,  0,  0,  0,  0, -1,  0,  0,  0,  0, -1]])"
      ]
     },
     "execution_count": 4,
     "metadata": {},
     "output_type": "execute_result"
    }
   ],
   "source": [
    "# Matriz nodo-nodo a nodo-arco\n",
    "## inicializamos NA.\n",
    "NA = np.zeros((len(nodos_set), len(a_set)))\n",
    "NA = NA.astype(int)\n",
    "\n",
    "## llenamos NA.\n",
    "arco_n = 0\n",
    "\n",
    "for i in nodos_set:\n",
    "    for j in nodos_set:\n",
    "        \n",
    "        # Matriz NA\n",
    "        ## Si existe un arco:\n",
    "        if NN[i, j] == 1:\n",
    "\n",
    "            NA[i, arco_n] = 1\n",
    "            NA[j, arco_n] = -1\n",
    "            \n",
    "            arco_n +=1\n",
    "        \n",
    "# visualizamos\n",
    "NA"
   ]
  },
  {
   "cell_type": "code",
   "execution_count": 5,
   "id": "910eacdf",
   "metadata": {},
   "outputs": [],
   "source": [
    "# Variables de decisión\n",
    "X = pulp.LpVariable.dicts('X', a_set, 0, None, cat='Continuous')"
   ]
  },
  {
   "cell_type": "code",
   "execution_count": 6,
   "id": "662a7c68",
   "metadata": {},
   "outputs": [],
   "source": [
    "# primero agregamos la funcion objetivo\n",
    "prob += pulp.lpSum([X[a] * C[a] for a in a_set]), \"Funcion objetivo\""
   ]
  },
  {
   "cell_type": "code",
   "execution_count": 7,
   "id": "8c6afc37",
   "metadata": {},
   "outputs": [],
   "source": [
    "# restricciones \n",
    "for n in nodos_set:\n",
    "    prob += pulp.lpSum([NA[n, a] * X[a] for a in a_set]) == b[n]"
   ]
  },
  {
   "cell_type": "code",
   "execution_count": 8,
   "id": "ce70bbb1",
   "metadata": {},
   "outputs": [
    {
     "data": {
      "text/plain": [
       "1"
      ]
     },
     "execution_count": 8,
     "metadata": {},
     "output_type": "execute_result"
    }
   ],
   "source": [
    "# The problem is solved using PuLP's choice of Solver\n",
    "prob.solve()"
   ]
  },
  {
   "cell_type": "code",
   "execution_count": 9,
   "id": "a959f02a",
   "metadata": {},
   "outputs": [
    {
     "data": {
      "text/plain": [
       "23750.0"
      ]
     },
     "execution_count": 9,
     "metadata": {},
     "output_type": "execute_result"
    }
   ],
   "source": [
    "# Costo óptimo.\n",
    "value(prob.objective)"
   ]
  },
  {
   "cell_type": "code",
   "execution_count": 10,
   "id": "91a22ba8",
   "metadata": {},
   "outputs": [
    {
     "name": "stdout",
     "output_type": "stream",
     "text": [
      "Status: Optimal\n"
     ]
    }
   ],
   "source": [
    "# Estado del problema.\n",
    "print(\"Status:\", LpStatus[prob.status])"
   ]
  },
  {
   "cell_type": "code",
   "execution_count": 11,
   "id": "a285a177",
   "metadata": {},
   "outputs": [
    {
     "name": "stdout",
     "output_type": "stream",
     "text": [
      "0 50.0\n",
      "1 0.0\n",
      "2 0.0\n",
      "3 0.0\n",
      "4 100.0\n",
      "5 0.0\n",
      "6 0.0\n",
      "7 50.0\n",
      "8 100.0\n",
      "9 50.0\n",
      "10 50.0\n",
      "11 200.0\n",
      "12 0.0\n",
      "13 0.0\n",
      "14 0.0\n"
     ]
    }
   ],
   "source": [
    "# Variables de decisión.\n",
    "for a in a_set:\n",
    "    print(a, prob.variables()[a].varValue)"
   ]
  },
  {
   "cell_type": "code",
   "execution_count": 12,
   "id": "b8cc624b",
   "metadata": {},
   "outputs": [],
   "source": [
    "# ToDo:\n",
    "# Cómo relaciono los arcos con i, j?"
   ]
  },
  {
   "cell_type": "code",
   "execution_count": null,
   "id": "fc329d40",
   "metadata": {},
   "outputs": [],
   "source": []
  },
  {
   "cell_type": "code",
   "execution_count": null,
   "id": "11c44d90",
   "metadata": {},
   "outputs": [],
   "source": []
  }
 ],
 "metadata": {
  "kernelspec": {
   "display_name": "Python 3",
   "language": "python",
   "name": "python3"
  },
  "language_info": {
   "codemirror_mode": {
    "name": "ipython",
    "version": 3
   },
   "file_extension": ".py",
   "mimetype": "text/x-python",
   "name": "python",
   "nbconvert_exporter": "python",
   "pygments_lexer": "ipython3",
   "version": "3.8.13"
  }
 },
 "nbformat": 4,
 "nbformat_minor": 5
}
