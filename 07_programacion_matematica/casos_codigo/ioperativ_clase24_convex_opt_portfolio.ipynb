{
  "nbformat": 4,
  "nbformat_minor": 0,
  "metadata": {
    "colab": {
      "name": "ioperativ_clase24_convex_opt_portfolio.ipynb",
      "provenance": [],
      "collapsed_sections": []
    },
    "kernelspec": {
      "name": "python3",
      "display_name": "Python 3"
    },
    "language_info": {
      "name": "python"
    }
  },
  "cells": [
    {
      "cell_type": "markdown",
      "metadata": {
        "id": "WGbatlo8OI3x"
      },
      "source": [
        "-----------------------------------\n",
        "#### **Programacion No Lineal con Python: Optimizacion de Porftolio de inversion**\n",
        "**Universidad Tecnologica Nacional - Facultad Buenos Aires** <br>\n",
        "**Ingenieria Industrial**<br>\n",
        "**Investigacion Operativa** <br>\n",
        "Autor: Martin Palazzo <br>\n",
        "Curso I4051 <br>"
      ]
    },
    {
      "cell_type": "code",
      "metadata": {
        "id": "I6s_xFqW_RZL"
      },
      "source": [
        "# Importamos librerias\n",
        "import numpy as np\n",
        "import pandas as pd\n",
        "import matplotlib.pyplot as plt\n",
        "import seaborn as sns"
      ],
      "execution_count": 2,
      "outputs": []
    },
    {
      "cell_type": "code",
      "metadata": {
        "id": "yQ4ffzH-BDMW"
      },
      "source": [
        "# Matriz de datos historicos\n",
        "# filas = meses\n",
        "# columnas = retorno de cada empresa\n",
        "hist = np.array([[6,7,10], \n",
        "                 [3,8,1], \n",
        "                 [4,9,7]])\n",
        "\n",
        "# calculamos matriz coviarianza retorno\n",
        "r_cov_hist = np.cov(hist.T)\n",
        "\n",
        "# calculamos vector media retorno\n",
        "r_avg_hist = np.mean(hist, axis = 0)\n",
        "\n",
        "# parametro de retorno minimo\n",
        "r_min = 0.1"
      ],
      "execution_count": 3,
      "outputs": []
    },
    {
      "cell_type": "markdown",
      "metadata": {
        "id": "De9fQaqOSDGM"
      },
      "source": [
        "Matriz de covarianza\n",
        "$$\n",
        "\\Sigma = \\begin{pmatrix}\n",
        "\\sigma_{x_1 x_1} & \\sigma_{x_1 x_2} & \\sigma_{x_1 x_3}\\\\ \n",
        "\\sigma_{x_2 x_1} & \\sigma_{x_2 x_2} & \\sigma_{x_2 x_3}\\\\ \n",
        "\\sigma_{x_3 x_1} & \\sigma_{x_3 x_2} & \\sigma_{x_3 x_3}\n",
        "\\end{pmatrix}\n",
        "$$"
      ]
    },
    {
      "cell_type": "code",
      "metadata": {
        "colab": {
          "base_uri": "https://localhost:8080/"
        },
        "id": "t6aqHFEIYSj7",
        "outputId": "da75099f-d609-4a9f-e6de-092a54e2c9db"
      },
      "source": [
        "print(r_cov_hist)"
      ],
      "execution_count": 4,
      "outputs": [
        {
          "output_type": "stream",
          "name": "stdout",
          "text": [
            "[[ 2.33333333 -1.          6.5       ]\n",
            " [-1.          1.         -1.5       ]\n",
            " [ 6.5        -1.5        21.        ]]\n"
          ]
        }
      ]
    },
    {
      "cell_type": "markdown",
      "metadata": {
        "id": "NPFI30GzSSiq"
      },
      "source": [
        "Vector de retorno medio historico\n",
        "$$\n",
        "\\bar{r} = [\\bar{r_1},\\bar{r_2},\\bar{r_3} ]\n",
        "$$"
      ]
    },
    {
      "cell_type": "code",
      "metadata": {
        "colab": {
          "base_uri": "https://localhost:8080/"
        },
        "id": "Y9jDJ5M0YYZj",
        "outputId": "338677e4-46b9-429d-c945-da18bfb14d63"
      },
      "source": [
        "print(r_avg_hist)"
      ],
      "execution_count": 5,
      "outputs": [
        {
          "output_type": "stream",
          "name": "stdout",
          "text": [
            "[4.33333333 8.         6.        ]\n"
          ]
        }
      ]
    },
    {
      "cell_type": "markdown",
      "metadata": {
        "id": "ZVgv1lc3Oiyx"
      },
      "source": [
        "Problema de optimizacion\n",
        "$$\n",
        "\\begin{matrix}\n",
        "\\underset{x}{\\text{min }} & x^{T} \\Sigma x \\\\\n",
        "r^{T} x & \\geq r_{min} \\\\ \n",
        "x_i & \\geq 0 \\\\ \n",
        "\\sum x_i &  = 1 \n",
        "\\end{matrix}\n",
        "$$"
      ]
    },
    {
      "cell_type": "code",
      "metadata": {
        "id": "EAO4lVfoBDOt"
      },
      "source": [
        "import scipy\n",
        "\n",
        "# objective function\n",
        "def objective(x):\n",
        "  f = np.dot(np.dot(x, r_cov_hist),x)\n",
        "  #f = -(30*x[0]**0.5 + 20*x[1]**0.5)\n",
        "  return f\n",
        "\n",
        "# funcion de restricciones mayor o igual\n",
        "def c1(x):\n",
        "  c1 = np.dot(r_avg_hist,x)\n",
        "  return c1\n",
        "\n",
        "# funcion de restricciones igualdad\n",
        "def c2(x):\n",
        "  c2 = np.sum(x)\n",
        "  return c2\n",
        "  \n",
        "# Minimo retorno a obtener\n",
        "r_min = 0.1\n"
      ],
      "execution_count": 6,
      "outputs": []
    },
    {
      "cell_type": "code",
      "metadata": {
        "id": "tWY3jNgMfXSy",
        "colab": {
          "base_uri": "https://localhost:8080/"
        },
        "outputId": "dc71dc80-c9d6-4608-d4be-0d60722f153e"
      },
      "source": [
        "\n",
        "# formalizo restricciones en el formato de scipy\n",
        "con1 = scipy.optimize.NonlinearConstraint(c1, lb = r_min, ub = np.inf)\n",
        "con2 = scipy.optimize.NonlinearConstraint(c2, lb = 1, ub = 1)\n",
        "\n",
        "# bounds de las variables de decision, condiciones de no-negatividad\n",
        "bounds = [(0, None),(0, None),(0, None)]\n",
        "\n",
        "# semilla\n",
        "x0 = np.array([0.5,0.4,0.1])\n",
        "\n",
        "# solucion con scipy\n",
        "scipy.optimize.minimize(objective, x0, bounds = bounds, constraints = ([con1,con2]))"
      ],
      "execution_count": 7,
      "outputs": [
        {
          "output_type": "execute_result",
          "data": {
            "text/plain": [
              "     fun: 0.25000000000000006\n",
              "     jac: array([0.50000002, 0.50000002, 3.00000028])\n",
              " message: 'Optimization terminated successfully.'\n",
              "    nfev: 26\n",
              "     nit: 5\n",
              "    njev: 5\n",
              "  status: 0\n",
              " success: True\n",
              "       x: array([0.375, 0.625, 0.   ])"
            ]
          },
          "metadata": {},
          "execution_count": 7
        }
      ]
    },
    {
      "cell_type": "code",
      "metadata": {
        "id": "Tfq85DzxV0zl"
      },
      "source": [
        ""
      ],
      "execution_count": null,
      "outputs": []
    }
  ]
}