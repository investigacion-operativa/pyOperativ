{
 "cells": [
  {
   "cell_type": "markdown",
   "metadata": {},
   "source": [
    "-----------------------------------\n",
    "#### Programacion Lineal con Python\n",
    "**Universidad Tecnologica Nacional - Facultad Buenos Aires** <br>\n",
    "**Ingenieria Industrial**<br>\n",
    "**Investigacion Operativa** <br>\n",
    "Autor: Martin Palazzo <br>\n",
    "Curso I4051 <br>\n",
    "\n"
   ]
  },
  {
   "cell_type": "markdown",
   "metadata": {},
   "source": [
    "Dado el siguiente problema de programacion lineal resolverlo con PULP."
   ]
  },
  {
   "cell_type": "markdown",
   "metadata": {},
   "source": [
    "$$\n",
    "\\begin{matrix}\n",
    "\\underset{x}{\\text{max }} &  Z =  1000x_1 + 1200 x_2   \\\\ \n",
    "\\\\ \n",
    "10 x_1 + 5 x_2  & \\leq 200 \\\\ \n",
    "2_x1 + 3 x_2 & \\leq 60 \\\\ \n",
    "x_1  & \\leq 34 \\\\ \n",
    "x_2 & \\leq 14 \\\\ \n",
    "x_1, x_2 & \\geq 0\n",
    "\\end{matrix}\n",
    "$$"
   ]
  },
  {
   "cell_type": "markdown",
   "metadata": {},
   "source": [
    "**Solución computacional**"
   ]
  },
  {
   "cell_type": "code",
   "execution_count": 1,
   "metadata": {},
   "outputs": [],
   "source": [
    "# importamos la libreria PULP\n",
    "from pulp import *"
   ]
  },
  {
   "cell_type": "code",
   "execution_count": 2,
   "metadata": {},
   "outputs": [
    {
     "name": "stderr",
     "output_type": "stream",
     "text": [
      "/Users/palazzom/anaconda/envs/tfkeras/lib/python3.6/site-packages/pulp/pulp.py:1316: UserWarning: Spaces are not permitted in the name. Converted to '_'\n",
      "  warnings.warn(\"Spaces are not permitted in the name. Converted to '_'\")\n"
     ]
    }
   ],
   "source": [
    "# definimos si es un problema de minimizacion o maximizacion\n",
    "prob = LpProblem(\"Toy example 1\", LpMaximize)"
   ]
  },
  {
   "cell_type": "code",
   "execution_count": 3,
   "metadata": {},
   "outputs": [],
   "source": [
    "# definimos las variables de decision\n",
    "x1 = LpVariable('x1', lowBound=0, cat='Continuous')\n",
    "x2 = LpVariable('x2', lowBound=0, cat='Continuous')"
   ]
  },
  {
   "cell_type": "code",
   "execution_count": 4,
   "metadata": {},
   "outputs": [],
   "source": [
    "# primero agregamos la funcion objetivo\n",
    "prob += 1000 * x1 + 1200 * x2, \"Funcion objetivo\""
   ]
  },
  {
   "cell_type": "code",
   "execution_count": 5,
   "metadata": {},
   "outputs": [],
   "source": [
    "# planteamos \n",
    "prob += 10*x1 + 5*x2 <= 200, \"restriccion 0\"\n",
    "prob += 2 * x1 + 3 * x2 <= 60, \"restriccion 1\"\n",
    "prob += 2 * x1 + 3 * x2 <= 60, \"restriccion 2\"\n",
    "prob += x1 <= 34, \"restriccion 3\"\n",
    "prob += x2 <= 14, \"restriccion 4\"\n"
   ]
  },
  {
   "cell_type": "code",
   "execution_count": 6,
   "metadata": {},
   "outputs": [
    {
     "data": {
      "text/plain": [
       "1"
      ]
     },
     "execution_count": 6,
     "metadata": {},
     "output_type": "execute_result"
    }
   ],
   "source": [
    "# The problem is solved using PuLP's choice of Solver\n",
    "prob.solve()"
   ]
  },
  {
   "cell_type": "code",
   "execution_count": 7,
   "metadata": {},
   "outputs": [
    {
     "data": {
      "text/plain": [
       "27000.0"
      ]
     },
     "execution_count": 7,
     "metadata": {},
     "output_type": "execute_result"
    }
   ],
   "source": [
    "# imprimimos el valor de la función objetivo en el óptimo\n",
    "value(prob.objective)"
   ]
  },
  {
   "cell_type": "code",
   "execution_count": 8,
   "metadata": {},
   "outputs": [
    {
     "data": {
      "text/plain": [
       "15.0"
      ]
     },
     "execution_count": 8,
     "metadata": {},
     "output_type": "execute_result"
    }
   ],
   "source": [
    "# valor de la variable de decisión x1 en el óptimo\n",
    "prob.variables()[0].varValue"
   ]
  },
  {
   "cell_type": "code",
   "execution_count": 9,
   "metadata": {},
   "outputs": [
    {
     "data": {
      "text/plain": [
       "10.0"
      ]
     },
     "execution_count": 9,
     "metadata": {},
     "output_type": "execute_result"
    }
   ],
   "source": [
    "# valor de la variable de decisión x2 en el óptimo\n",
    "prob.variables()[1].varValue"
   ]
  },
  {
   "cell_type": "code",
   "execution_count": 10,
   "metadata": {},
   "outputs": [
    {
     "name": "stdout",
     "output_type": "stream",
     "text": [
      "Status: Optimal\n"
     ]
    }
   ],
   "source": [
    "# Quality check del resultado de optimización -> llego a un óptimo?\n",
    "print(\"Status:\", LpStatus[prob.status])"
   ]
  },
  {
   "cell_type": "code",
   "execution_count": null,
   "metadata": {},
   "outputs": [],
   "source": []
  }
 ],
 "metadata": {
  "kernelspec": {
   "display_name": "Python 3",
   "language": "python",
   "name": "python3"
  },
  "language_info": {
   "codemirror_mode": {
    "name": "ipython",
    "version": 3
   },
   "file_extension": ".py",
   "mimetype": "text/x-python",
   "name": "python",
   "nbconvert_exporter": "python",
   "pygments_lexer": "ipython3",
   "version": "3.6.8"
  }
 },
 "nbformat": 4,
 "nbformat_minor": 5
}
