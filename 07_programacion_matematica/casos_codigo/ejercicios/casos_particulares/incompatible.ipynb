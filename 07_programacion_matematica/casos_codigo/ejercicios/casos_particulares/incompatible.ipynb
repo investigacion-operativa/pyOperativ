{
 "cells": [
  {
   "cell_type": "markdown",
   "metadata": {},
   "source": [
    "---\n",
    "__Universidad Tecnológica Nacional, Buenos Aires__\\\n",
    "__Ingeniería Industrial__\\\n",
    "__Cátedra de Investigación Operativa__\\\n",
    "__Autor: Rodrigo Maranzana__, Rmaranzana@frba.utn.edu.ar\n",
    "\n",
    "---"
   ]
  },
  {
   "cell_type": "code",
   "execution_count": 1,
   "metadata": {},
   "outputs": [
    {
     "name": "stdout",
     "output_type": "stream",
     "text": [
      "Infeasible\n",
      "x = 1600.00\n",
      "y = 2400.00\n",
      "13600.0\n"
     ]
    }
   ],
   "source": [
    "import pulp\n",
    "\n",
    "lp01 = pulp.LpProblem(\"problema incompatible\", pulp.LpMaximize)\n",
    "\n",
    "# Variables:\n",
    "x = pulp.LpVariable('x', lowBound=0, cat='Continuous')\n",
    "y = pulp.LpVariable('y', lowBound=0, cat='Continuous')\n",
    "\n",
    "# Función objetivo:\n",
    "lp01 += 4*x + 3*y, \"Z\"\n",
    "\n",
    "# Restricciones:\n",
    "lp01 +=  6*x + 16*y >= 48000\n",
    "lp01 += 12*x +  6*y >= 42000\n",
    "lp01 +=  9*x +  9*y <= 36000\n",
    "\n",
    "# Resolvemos:\n",
    "lp01.solve()\n",
    "\n",
    "# Imprimimos el status del problema:\n",
    "print(pulp.LpStatus[lp01.status])\n",
    "\n",
    "# Imprimimos las variables en su valor óptimo:\n",
    "for variable in lp01.variables():\n",
    "    print(\"%s = %.2f\" % (variable.name, variable.varValue))\n",
    "\n",
    "# Imprimimos el funcional óptimo:\n",
    "print(pulp.value(lp01.objective))"
   ]
  },
  {
   "cell_type": "code",
   "execution_count": null,
   "metadata": {},
   "outputs": [],
   "source": []
  }
 ],
 "metadata": {
  "kernelspec": {
   "display_name": "Python 3",
   "language": "python",
   "name": "python3"
  },
  "language_info": {
   "codemirror_mode": {
    "name": "ipython",
    "version": 3
   },
   "file_extension": ".py",
   "mimetype": "text/x-python",
   "name": "python",
   "nbconvert_exporter": "python",
   "pygments_lexer": "ipython3",
   "version": "3.8.5"
  },
  "toc": {
   "base_numbering": 1,
   "nav_menu": {},
   "number_sections": true,
   "sideBar": true,
   "skip_h1_title": false,
   "title_cell": "Table of Contents",
   "title_sidebar": "Contents",
   "toc_cell": false,
   "toc_position": {},
   "toc_section_display": true,
   "toc_window_display": false
  },
  "varInspector": {
   "cols": {
    "lenName": 16,
    "lenType": 16,
    "lenVar": 40
   },
   "kernels_config": {
    "python": {
     "delete_cmd_postfix": "",
     "delete_cmd_prefix": "del ",
     "library": "var_list.py",
     "varRefreshCmd": "print(var_dic_list())"
    },
    "r": {
     "delete_cmd_postfix": ") ",
     "delete_cmd_prefix": "rm(",
     "library": "var_list.r",
     "varRefreshCmd": "cat(var_dic_list()) "
    }
   },
   "types_to_exclude": [
    "module",
    "function",
    "builtin_function_or_method",
    "instance",
    "_Feature"
   ],
   "window_display": false
  }
 },
 "nbformat": 4,
 "nbformat_minor": 2
}
