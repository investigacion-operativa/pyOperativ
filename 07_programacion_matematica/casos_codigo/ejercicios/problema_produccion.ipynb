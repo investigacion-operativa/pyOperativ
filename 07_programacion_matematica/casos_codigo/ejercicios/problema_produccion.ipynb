{
 "cells": [
  {
   "cell_type": "markdown",
   "metadata": {},
   "source": [
    "---\n",
    "__Universidad Tecnológica Nacional, Buenos Aires__\\\n",
    "__Ingeniería Industrial__\\\n",
    "__Cátedra de Investigación Operativa__\\\n",
    "__Autor: Rodrigo Maranzana__, Rmaranzana@frba.utn.edu.ar\n",
    "\n",
    "---"
   ]
  },
  {
   "cell_type": "code",
   "execution_count": 2,
   "metadata": {},
   "outputs": [
    {
     "name": "stdout",
     "output_type": "stream",
     "text": [
      "Optimal\n",
      "x = 45.00\n",
      "y = 6.25\n",
      "1.25\n"
     ]
    }
   ],
   "source": [
    "# Problema de producción\n",
    "import pulp\n",
    "\n",
    "lp01 = pulp.LpProblem(\"problema producción\", pulp.LpMaximize)\n",
    "\n",
    "# Variables:\n",
    "x = pulp.LpVariable('x', lowBound=45, cat='Continuous')\n",
    "y = pulp.LpVariable('y', lowBound=5, cat='Continuous')\n",
    "\n",
    "# Función objetivo:\n",
    "lp01 += (x - 45)  + (y - 5), \"Z\"\n",
    "\n",
    "# Restricciones:\n",
    "lp01 +=  50*x + 24*y <= 2400\n",
    "lp01 +=  30*x + 33*y <= 2100\n",
    "\n",
    "lp01.solve()\n",
    "pulp.LpStatus[lp01.status]\n",
    "print(pulp.LpStatus[lp01.status])\n",
    "\n",
    "for variable in lp01.variables():\n",
    "    print(\"%s = %.2f\" % (variable.name, variable.varValue))\n",
    "print(pulp.value(lp01.objective))"
   ]
  }
 ],
 "metadata": {
  "kernelspec": {
   "display_name": "Python 3",
   "language": "python",
   "name": "python3"
  },
  "language_info": {
   "codemirror_mode": {
    "name": "ipython",
    "version": 3
   },
   "file_extension": ".py",
   "mimetype": "text/x-python",
   "name": "python",
   "nbconvert_exporter": "python",
   "pygments_lexer": "ipython3",
   "version": "3.8.5"
  }
 },
 "nbformat": 4,
 "nbformat_minor": 2
}
