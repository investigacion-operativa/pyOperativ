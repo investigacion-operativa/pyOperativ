{
 "cells": [
  {
   "cell_type": "markdown",
   "id": "a9038ff9",
   "metadata": {},
   "source": [
    "-----------------------------------\n",
    "#### Programacion Lineal con Python\n",
    "**Universidad Tecnologica Nacional - Facultad Buenos Aires** <br>\n",
    "**Ingenieria Industrial**<br>\n",
    "**Investigacion Operativa** <br>\n",
    "Autor: Martin Palazzo <br>\n",
    "Curso I4051 <br>\n",
    "\n"
   ]
  },
  {
   "cell_type": "markdown",
   "id": "aeab6418",
   "metadata": {},
   "source": [
    "Dado el siguiente problema de programacion lineal"
   ]
  },
  {
   "attachments": {},
   "cell_type": "markdown",
   "id": "0df4c2d0",
   "metadata": {},
   "source": [
    "$$\n",
    "\\begin{matrix}\n",
    "\\underset{x}{\\text{max }} &  Z =  1000x_1 + 1200 x_2   \\\\ \n",
    "\\\\ \n",
    "10 x_1 + 5 x_2  & \\leq 200 \\\\ \n",
    "2_x1 + 3 x_2 & \\leq 60 \\\\ \n",
    "x_1  & \\leq 34 \\\\ \n",
    "x_2 & \\leq 14 \\\\ \n",
    "x_1, x_2 & \\geq 0\n",
    "\\end{matrix}\n",
    "$$"
   ]
  },
  {
   "cell_type": "code",
   "execution_count": 18,
   "id": "cf3507ff",
   "metadata": {},
   "outputs": [],
   "source": [
    "from pulp import *"
   ]
  },
  {
   "cell_type": "code",
   "execution_count": 19,
   "id": "17191b13",
   "metadata": {},
   "outputs": [],
   "source": [
    "# definimos si es un problema de minimizacion o maximizacion\n",
    "prob = LpProblem(\"Toy example 1\", LpMaximize)"
   ]
  },
  {
   "cell_type": "code",
   "execution_count": 20,
   "id": "fb4549a6",
   "metadata": {},
   "outputs": [],
   "source": [
    "# definimos las variables de decision\n",
    "x1 = LpVariable('x1', lowBound=0, cat='Continuous')\n",
    "x2 = LpVariable('x2', lowBound=0, cat='Continuous')"
   ]
  },
  {
   "cell_type": "code",
   "execution_count": 21,
   "id": "e07da1e0",
   "metadata": {},
   "outputs": [],
   "source": [
    "# primero agregamos la funcion objetivo\n",
    "prob += 1000 * x1 + 1200 * x2, \"Funcion objetivo\""
   ]
  },
  {
   "cell_type": "code",
   "execution_count": 22,
   "id": "685b377f",
   "metadata": {},
   "outputs": [],
   "source": [
    "prob += 10*x1 + 5*x2 <= 200, \"func obj\"\n",
    "prob += 2 * x1 + 3 * x2 <= 60, \"restriccion 1\"\n",
    "prob += 2 * x1 + 3 * x2 <= 60, \"restriccion 2\"\n",
    "prob += x1 <= 34, \"restriccion 3\"\n",
    "prob += x2 <= 14, \"restriccion 4\"\n"
   ]
  },
  {
   "cell_type": "code",
   "execution_count": 23,
   "id": "e7f1f342",
   "metadata": {},
   "outputs": [
    {
     "data": {
      "text/plain": [
       "1"
      ]
     },
     "execution_count": 23,
     "metadata": {},
     "output_type": "execute_result"
    }
   ],
   "source": [
    "# The problem is solved using PuLP's choice of Solver\n",
    "prob.solve()"
   ]
  },
  {
   "cell_type": "code",
   "execution_count": 28,
   "id": "ae02b64d",
   "metadata": {},
   "outputs": [
    {
     "data": {
      "text/plain": [
       "27000.0"
      ]
     },
     "execution_count": 28,
     "metadata": {},
     "output_type": "execute_result"
    }
   ],
   "source": [
    "value(prob.objective)"
   ]
  },
  {
   "cell_type": "code",
   "execution_count": 25,
   "id": "d46edfc8",
   "metadata": {},
   "outputs": [
    {
     "data": {
      "text/plain": [
       "15.0"
      ]
     },
     "execution_count": 25,
     "metadata": {},
     "output_type": "execute_result"
    }
   ],
   "source": [
    "prob.variables()[0].varValue"
   ]
  },
  {
   "cell_type": "code",
   "execution_count": 26,
   "id": "5bfb01e2",
   "metadata": {},
   "outputs": [
    {
     "data": {
      "text/plain": [
       "10.0"
      ]
     },
     "execution_count": 26,
     "metadata": {},
     "output_type": "execute_result"
    }
   ],
   "source": [
    "prob.variables()[1].varValue"
   ]
  },
  {
   "cell_type": "code",
   "execution_count": 29,
   "id": "7c42ec40",
   "metadata": {},
   "outputs": [
    {
     "name": "stdout",
     "output_type": "stream",
     "text": [
      "Status: Optimal\n"
     ]
    }
   ],
   "source": [
    "# The status of the solution is printed to the screen\n",
    "print(\"Status:\", LpStatus[prob.status])"
   ]
  },
  {
   "cell_type": "code",
   "execution_count": null,
   "id": "47f494c7",
   "metadata": {},
   "outputs": [],
   "source": []
  }
 ],
 "metadata": {
  "kernelspec": {
   "display_name": "Python 3",
   "language": "python",
   "name": "python3"
  },
  "language_info": {
   "codemirror_mode": {
    "name": "ipython",
    "version": 3
   },
   "file_extension": ".py",
   "mimetype": "text/x-python",
   "name": "python",
   "nbconvert_exporter": "python",
   "pygments_lexer": "ipython3",
   "version": "3.8.10"
  }
 },
 "nbformat": 4,
 "nbformat_minor": 5
}
