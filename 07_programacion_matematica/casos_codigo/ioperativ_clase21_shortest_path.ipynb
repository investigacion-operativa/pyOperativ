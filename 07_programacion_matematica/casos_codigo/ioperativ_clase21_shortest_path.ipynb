{
  "nbformat": 4,
  "nbformat_minor": 0,
  "metadata": {
    "colab": {
      "name": "ioperativ_clase21_shortest_path.ipynb",
      "provenance": [],
      "collapsed_sections": []
    },
    "kernelspec": {
      "name": "python3",
      "display_name": "Python 3"
    },
    "language_info": {
      "name": "python"
    }
  },
  "cells": [
    {
      "cell_type": "markdown",
      "metadata": {
        "id": "1LhK4an-YaFe"
      },
      "source": [
        "-----------------------------------\n",
        "#### **Programacion Lineal con Python: Caso camino mas corto**\n",
        "**Universidad Tecnologica Nacional - Facultad Buenos Aires** <br>\n",
        "**Ingenieria Industrial**<br>\n",
        "**Investigacion Operativa** <br>\n",
        "Autor: Martin Palazzo <br>\n",
        "Curso I4051 <br>\n",
        "\n"
      ]
    },
    {
      "cell_type": "code",
      "metadata": {
        "id": "xTpy8WuSTsw_",
        "colab": {
          "base_uri": "https://localhost:8080/"
        },
        "outputId": "93f26dc2-03a3-4127-bf54-aebbcd879c2b"
      },
      "source": [
        "pip install pulp"
      ],
      "execution_count": 5,
      "outputs": [
        {
          "output_type": "stream",
          "name": "stdout",
          "text": [
            "Requirement already satisfied: pulp in /usr/local/lib/python3.7/dist-packages (2.5.1)\n"
          ]
        }
      ]
    },
    {
      "cell_type": "code",
      "metadata": {
        "id": "qURNGWdGcIx6"
      },
      "source": [
        "import numpy as np\n",
        "import matplotlib.pyplot as plt\n",
        "import seaborn as sns\n",
        "import pandas as pd\n",
        "import pulp\n",
        "from pulp import *\n",
        "import scipy as sp\n",
        "from scipy import optimize"
      ],
      "execution_count": 6,
      "outputs": []
    },
    {
      "cell_type": "markdown",
      "metadata": {
        "id": "v6OYFEYNXYDz"
      },
      "source": [
        "Las variables de decision \n",
        "$$\n",
        "y = [y_{12}, y_{12}, y_{24}, y_{25}, y_{34}, y_{36}, y_{45}, y_{47}, y_{57}, y_{67}]\n",
        "$$\n",
        "\n",
        "La funcion objetivo del problema Primal Programacion Lineal\n",
        "\n",
        "$$\\underset{y}{\\text{min }} w = \\sum d_{ij} y_{ij}\n",
        "$$\n",
        "\n",
        "sujeto a las restricciones\n",
        "\n",
        "\\begin{matrix}\n",
        "y_{12} + y_{13} & = 1\\\\ \n",
        "y_{12} - y_{24} - y_{25} & = 0\\\\ \n",
        "y_{13} - y_{34} - y_{36} & = 0 \\\\ \n",
        "y_{24} + y_{34} - y_{45} - y_{47} & = 0 \\\\ \n",
        "y_{25} +y_{45} - y_{57} &  = 0 \\\\ \n",
        "y_{36} - y_{67} & = 0 \\\\ \n",
        "y_{57} + y_{67} & = 1 \n",
        "\\end{matrix}\n",
        "\n"
      ]
    },
    {
      "cell_type": "code",
      "metadata": {
        "id": "fnPqdPAwTyqx"
      },
      "source": [
        "import pulp\n",
        "# definimos si es un problema de minimizacion o maximizacion\n",
        "linprog_primal = LpProblem(\"Primal\", LpMinimize)\n",
        "\n",
        "# definimos las variables de decision, el tipo de variable y la cota inferior\n",
        "y12 = LpVariable('y12', lowBound=0, cat='Continuous')\n",
        "y13 = LpVariable('y13', lowBound=0, cat='Continuous')\n",
        "y24 = LpVariable('y24', lowBound=0, cat='Continuous')\n",
        "y25 = LpVariable('y25', lowBound=0, cat='Continuous')\n",
        "y34 = LpVariable('y34', lowBound=0, cat='Continuous')\n",
        "y36 = LpVariable('y36', lowBound=0, cat='Continuous')\n",
        "y45 = LpVariable('y45', lowBound=0, cat='Continuous')\n",
        "y47 = LpVariable('y47', lowBound=0, cat='Continuous')\n",
        "y57 = LpVariable('y57', lowBound=0, cat='Continuous')\n",
        "y67 = LpVariable('y67', lowBound=0, cat='Continuous')"
      ],
      "execution_count": 7,
      "outputs": []
    },
    {
      "cell_type": "code",
      "metadata": {
        "id": "HfubfzHDT95E"
      },
      "source": [
        "# primero agregamos la funcion objetivo\n",
        "linprog_primal += 3*y12 + 4*y13 + 1*y24 + 6*y25 + 2*y34 + 3*y36 + 1*y45 + 5*y47 + 3*y57 + 3*y67 , \"Funcion objetivo\"\n",
        "\n",
        "# luego agregamos restricciones\n",
        "linprog_primal += y12 + y13 == 1 , \"balance flujo nodo 1\"\n",
        "linprog_primal += y12 - y24 - y25 == 0, \"balance flujo nodo 2\"\n",
        "linprog_primal += y13 - y34 - y36 == 0, \"balance de flujo nodo 3\"\n",
        "linprog_primal += y24 + y34 - y45 - y47 == 0, \"balance flujo nodo 4\"\n",
        "linprog_primal += y25 + y45 - y57 == 0, \"balance flujo nodo 5\"\n",
        "linprog_primal += y36 - y67 == 0, \"balance flujo nodo 6\"\n",
        "linprog_primal += y57 + y67 == 0, \"balance flujo nodo 7\""
      ],
      "execution_count": 8,
      "outputs": []
    },
    {
      "cell_type": "code",
      "metadata": {
        "colab": {
          "base_uri": "https://localhost:8080/"
        },
        "id": "zz2ThpbLW7Ug",
        "outputId": "499c2427-7454-4ad1-f348-ffbc36b9e4a5"
      },
      "source": [
        "# Resolver el problema con el solver de PULP\n",
        "linprog_primal.solve()"
      ],
      "execution_count": 9,
      "outputs": [
        {
          "output_type": "execute_result",
          "data": {
            "text/plain": [
              "1"
            ]
          },
          "metadata": {},
          "execution_count": 9
        }
      ]
    },
    {
      "cell_type": "code",
      "metadata": {
        "colab": {
          "base_uri": "https://localhost:8080/"
        },
        "id": "_DoEc6l3XBiT",
        "outputId": "b476f78c-8bf6-4241-bc8d-0b2fc72e527f"
      },
      "source": [
        "# valor de la funcion objetivo\n",
        "value(linprog_primal.objective)"
      ],
      "execution_count": 10,
      "outputs": [
        {
          "output_type": "execute_result",
          "data": {
            "text/plain": [
              "9.0"
            ]
          },
          "metadata": {},
          "execution_count": 10
        }
      ]
    },
    {
      "cell_type": "code",
      "metadata": {
        "id": "5sc_McPJXCX8"
      },
      "source": [
        "# obtenemos el valor de la variable de decision X1....X12 en el punto optimo\n",
        "solucion_primal = np.array([[linprog_primal.variables()[0].varValue,\n",
        "  linprog_primal.variables()[1].varValue,\n",
        "  linprog_primal.variables()[2].varValue,\n",
        "  linprog_primal.variables()[3].varValue,\n",
        "  linprog_primal.variables()[4].varValue,\n",
        "  linprog_primal.variables()[5].varValue,\n",
        "  linprog_primal.variables()[6].varValue,\n",
        "  linprog_primal.variables()[7].varValue,\n",
        "  linprog_primal.variables()[8].varValue,\n",
        "  linprog_primal.variables()[9].varValue,\n",
        "  ]])"
      ],
      "execution_count": 14,
      "outputs": []
    },
    {
      "cell_type": "code",
      "metadata": {
        "colab": {
          "base_uri": "https://localhost:8080/"
        },
        "id": "8PZpVOUSFTh9",
        "outputId": "d3d0bc5b-d34a-405d-f8e3-c58cf9e94d88"
      },
      "source": [
        "print(solucion_primal)"
      ],
      "execution_count": 15,
      "outputs": [
        {
          "output_type": "stream",
          "name": "stdout",
          "text": [
            "[[1. 0. 1. 0. 0. 0. 0. 1. 0. 0.]]\n"
          ]
        }
      ]
    },
    {
      "cell_type": "code",
      "metadata": {
        "id": "_93xaZMey6ed"
      },
      "source": [
        ""
      ],
      "execution_count": null,
      "outputs": []
    },
    {
      "cell_type": "markdown",
      "metadata": {
        "id": "UG1LFayWFaFX"
      },
      "source": [
        "La funcion objetivo del problema Dual Programacion Lineal\n",
        "\n",
        "$$\\text{min w} = \\begin{matrix}\n",
        "24y_{1} + 6y_{2} + y_3 + 2 y_4  \n",
        "\\end{matrix}\n",
        "$$\n",
        "\n",
        "sujeto a las restricciones\n",
        "\n",
        "\n",
        "$$\n",
        "6y_{1} + y_{2} - y_3 + 0 y_4    \\geq 5\\\\\n",
        "4y_{1} + 2y_{2} + y_3 +  y_4    \\geq 5\\\\\n",
        "$$\n"
      ]
    },
    {
      "cell_type": "code",
      "metadata": {
        "id": "kBAQpRl1K9xV"
      },
      "source": [
        "# definimos si es un problema de minimizacion o maximizacion\n",
        "linprog_dual = LpProblem(\"dual\", LpMinimize)\n",
        "\n",
        "# definimos las variables de decision, el tipo de variable y la cota inferior\n",
        "y1 = LpVariable('y1', lowBound=0, cat='Continuous')\n",
        "y2 = LpVariable('y2', lowBound=0, cat='Continuous')\n",
        "y3 = LpVariable('y3', lowBound=0, cat='Continuous')\n",
        "y4 = LpVariable('y4', lowBound=0, cat='Continuous')"
      ],
      "execution_count": null,
      "outputs": []
    },
    {
      "cell_type": "code",
      "metadata": {
        "id": "ilCYO3fHLURF"
      },
      "source": [
        "# primero agregamos la funcion objetivo\n",
        "linprog_dual += 24*y1 + 6*y2 + y3 + 2*y4, \"Funcion objetivo\"\n",
        "\n",
        "# luego agregamos restricciones\n",
        "linprog_dual += 6*y1 + y2 - y3 + 0*y4 >= 5 , \"restriccion1_dual\"\n",
        "linprog_dual += 4*y1 + 2*y2 + y3 + y4 >= 4 , \"restriccion2_dual\"\n"
      ],
      "execution_count": null,
      "outputs": []
    },
    {
      "cell_type": "code",
      "metadata": {
        "colab": {
          "base_uri": "https://localhost:8080/"
        },
        "id": "L1EH10nDLs2s",
        "outputId": "9eeac627-a8c6-481b-e21a-bfb75020be6c"
      },
      "source": [
        "# Resolver el problema con el solver de PULP\n",
        "linprog_dual.solve()"
      ],
      "execution_count": null,
      "outputs": [
        {
          "output_type": "execute_result",
          "data": {
            "text/plain": [
              "1"
            ]
          },
          "metadata": {},
          "execution_count": 11
        }
      ]
    },
    {
      "cell_type": "code",
      "metadata": {
        "colab": {
          "base_uri": "https://localhost:8080/"
        },
        "id": "KsH247XJLzbN",
        "outputId": "79279190-f5f9-404d-d885-3edb30245d13"
      },
      "source": [
        "# valor de la funcion objetivo\n",
        "value(linprog_dual.objective)"
      ],
      "execution_count": null,
      "outputs": [
        {
          "output_type": "execute_result",
          "data": {
            "text/plain": [
              "21.0"
            ]
          },
          "metadata": {},
          "execution_count": 12
        }
      ]
    },
    {
      "cell_type": "code",
      "metadata": {
        "id": "t7Jenc_CL2N6"
      },
      "source": [
        "# obtenemos el valor de la variable de decision X1....X12 en el punto optimo\n",
        "solucion_dual = np.array([[linprog_dual.variables()[0].varValue,\n",
        "                            linprog_dual.variables()[1].varValue,\n",
        "                           linprog_dual.variables()[2].varValue,\n",
        "                           linprog_dual.variables()[3].varValue]])"
      ],
      "execution_count": null,
      "outputs": []
    },
    {
      "cell_type": "code",
      "metadata": {
        "colab": {
          "base_uri": "https://localhost:8080/"
        },
        "id": "fRd9RR0VMCR_",
        "outputId": "b4070a22-36bc-43e8-9136-9677aa8ac5cf"
      },
      "source": [
        "print(solucion_dual)"
      ],
      "execution_count": null,
      "outputs": [
        {
          "output_type": "stream",
          "name": "stdout",
          "text": [
            "[[0.75 0.5  0.   0.  ]]\n"
          ]
        }
      ]
    },
    {
      "cell_type": "code",
      "metadata": {
        "id": "zbp4iqcEMHUP"
      },
      "source": [
        ""
      ],
      "execution_count": null,
      "outputs": []
    }
  ]
}