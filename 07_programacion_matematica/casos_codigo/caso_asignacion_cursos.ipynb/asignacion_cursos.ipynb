{
 "cells": [
  {
   "cell_type": "markdown",
   "metadata": {},
   "source": [
    "---\n",
    "__Universidad Tecnológica Nacional, Buenos Aires__\\\n",
    "__Ingeniería Industrial__\\\n",
    "__Cátedra de Investigación Operativa__\\\n",
    "__Autor: Rodrigo Maranzana__, Rmaranzana@frba.utn.edu.ar\n",
    "\n",
    "---"
   ]
  },
  {
   "cell_type": "markdown",
   "metadata": {},
   "source": [
    "# Modelo de optimización MILP inscripción a cursada (simplificado):"
   ]
  },
  {
   "cell_type": "markdown",
   "metadata": {
    "toc": true
   },
   "source": [
    "<h1>Table of Contents<span class=\"tocSkip\"></span></h1>\n",
    "<div class=\"toc\"><ul class=\"toc-item\"><li><span><a href=\"#Introducción:\" data-toc-modified-id=\"Introducción:-1\"><span class=\"toc-item-num\">1&nbsp;&nbsp;</span>Introducción:</a></span></li><li><span><a href=\"#Información-inicial:\" data-toc-modified-id=\"Información-inicial:-2\"><span class=\"toc-item-num\">2&nbsp;&nbsp;</span>Información inicial:</a></span></li><li><span><a href=\"#Modelo-de-optimización-entero-mixto-(MILP):\" data-toc-modified-id=\"Modelo-de-optimización-entero-mixto-(MILP):-3\"><span class=\"toc-item-num\">3&nbsp;&nbsp;</span>Modelo de optimización entero mixto (MILP):</a></span><ul class=\"toc-item\"><li><span><a href=\"#Parámetros:\" data-toc-modified-id=\"Parámetros:-3.1\"><span class=\"toc-item-num\">3.1&nbsp;&nbsp;</span>Parámetros:</a></span></li><li><span><a href=\"#Definimos-los-sets-y-variables:\" data-toc-modified-id=\"Definimos-los-sets-y-variables:-3.2\"><span class=\"toc-item-num\">3.2&nbsp;&nbsp;</span>Definimos los sets y variables:</a></span></li><li><span><a href=\"#Función-objetivo\" data-toc-modified-id=\"Función-objetivo-3.3\"><span class=\"toc-item-num\">3.3&nbsp;&nbsp;</span>Función objetivo</a></span></li><li><span><a href=\"#Restricciones:\" data-toc-modified-id=\"Restricciones:-3.4\"><span class=\"toc-item-num\">3.4&nbsp;&nbsp;</span>Restricciones:</a></span></li><li><span><a href=\"#Resolución-del-modelo-y-resultados:\" data-toc-modified-id=\"Resolución-del-modelo-y-resultados:-3.5\"><span class=\"toc-item-num\">3.5&nbsp;&nbsp;</span>Resolución del modelo y resultados:</a></span></li></ul></li><li><span><a href=\"#Gráfico-de-horarios:\" data-toc-modified-id=\"Gráfico-de-horarios:-4\"><span class=\"toc-item-num\">4&nbsp;&nbsp;</span>Gráfico de horarios:</a></span></li></ul></div>"
   ]
  },
  {
   "cell_type": "markdown",
   "metadata": {},
   "source": [
    "## Introducción:\n",
    "Se propone realizar un modelo de optimización entero mixto para la asignación de alumnos a cursos de la facultad. Se describe, la información inicial, generación de parámetros, el modelo matemático y la resolución computacional. La librería PuLP de Python es la elegida para resolver el modelo.\n",
    "Siendo que el tamaño del problema y su complejidad es baja, no es costoso resolverlo y por lo tanto puede ser hecho mediante esta clase de optimización.\n",
    "Se recomienda buscar alternativas heurísticas o híbridas (MILP + heurística) en caso de complejizar el presente modelo.\n",
    "\n",
    "Las suposiciones del modelo son las siguientes:\n",
    "- El sistema de inscripción no tiene alternativas. El alumno selecciona todas las materias a las que quiere inscribirse y el sistema, mediante optimización del conjunto total de alumnos devuelve en cuáles quedó anotado.\n",
    "- No existen cátedras, hay $n$ materias a las cuales los alumnos se inscriben.\n",
    "- Existe un cupo para cada curso.\n",
    "- Una materia puede tener varios bloques de cursada (ej: lunes y viernes) y cada uno ocupar una cantidad determinada de módulos (ej: tres módulos por bloque). Los bloques asignados a una materia particular tienen la misma cantidad de módulos.\n",
    "- Los módulos son independientes entre sí, no existe la superposición de horarios entre distintos módulos.\n",
    "- Los alumnos que compiten por entrar a la misma materia serán únicamente seleccionados según su peso académico, según la misma fórmula que utiliza la Universidad Tecnológica Nacional FRBA.\n",
    "\n",
    "*Nota: este ejemplo es solamente a modo didáctico y está resuelto de esta manera para mostrar la formulación y resolución de un modelo de optimización. Es válido pensar que puede resolverse de manera heurística mucho más simple de lo que implica un modelo MILP. Por lo tanto, dadas las simplificaciones una heurística de tipo cascada que inscriba alumnos secuencialmente ordenados por su peso académico. Sin embargo, el objetivo es, como se dijo anteriormente, la explicación didáctica del modelo y brindar un puntapié inicial para modificaciones que lo hagan más complejo y anulen la posibilidad de la heurística de cascada."
   ]
  },
  {
   "cell_type": "code",
   "execution_count": 215,
   "metadata": {},
   "outputs": [],
   "source": [
    "import pulp\n",
    "import numpy.random as rnd\n",
    "import numpy as np\n",
    "import pandas as pd\n",
    "import time\n",
    "import matplotlib.pyplot as plt\n",
    "from matplotlib.colors import ListedColormap"
   ]
  },
  {
   "cell_type": "markdown",
   "metadata": {},
   "source": [
    "## Información inicial:\n",
    "Se nos presenta la siguiente información:\n",
    "- número de materias,\n",
    "- número de alumnos,\n",
    "- número total de módulos por semana,\n",
    "- parámetro alfa para tiempo de cursada,\n",
    "- parámetro beta para tiempo de cursada,\n",
    "- parámetro n para tiempo de cursada,\n",
    "- parámetro n para materias aprobadas,\n",
    "- parámetro p para materias aprobadas,\n",
    "- parametro n para materias desaprobadas,\n",
    "- parámetro p para materias desaprobadas,\n",
    "- parametro n para inscripción a materias,\n",
    "- parámetro p para inscripción a materias,\n",
    "\n",
    "*Nota 1: Los parámetros de media y desvío estándar son para crear un dataset ficticio de alumnos. En el caso de una aplicación real, esto no sería estadístico y se usaría el dataset correspondiente del sistema de inscripción académico.*\n",
    "\n",
    "*Nota 2: El número de módulos es una respresentación lineal de los módulos semanales. En este caso se considera que hay 12 módulos por día, y cinco días en una semana académica. Es decir que el módulo 13, es el primer módulo que se dicta el martes.*"
   ]
  },
  {
   "cell_type": "code",
   "execution_count": 216,
   "metadata": {},
   "outputs": [],
   "source": [
    "num_materias = 40 # número de materias en juego.\n",
    "num_alumnos = 500 # número total de alumnos.\n",
    "num_modulos = 60 # número de módulo semanales.\n",
    "min_cupo = 25 # mínimo valor de cupo en un curso.\n",
    "max_cupo = 50 # máximo valor de cupo en un curso.\n",
    "# Tiempo de cursada:\n",
    "alfa_t_cursada = 0.7 # parámetro alfa beta-binomial.\n",
    "beta_t_cursada = 2 # parámetro alfa beta-binomial.\n",
    "n_t_cursada = 7 # parámetro n beta-binomial.\n",
    "# Materias aprobadas (se supone dependiente del tiempo de cursada):\n",
    "n_aprobadas = 8 # parámetro n binomial.\n",
    "p_aprobadas = 0.7 # parámetro p binomial.\n",
    "# Materias desaprobadas (se supone dependiente del tiempo de cursada):\n",
    "n_desaprobadas = 2 # parámetro n binomial.\n",
    "p_desaprobadas = 0.3 # parámetro p binomial.\n",
    "# Cantidad de materias a la que se inscriben los alumnos:\n",
    "n_inscripcion = 8 # parámetro n binomial.\n",
    "p_inscripcion = 0.75 # parámetro p binomial."
   ]
  },
  {
   "cell_type": "markdown",
   "metadata": {},
   "source": [
    "## Modelo de optimización entero mixto (MILP):\n",
    "Creamos un modelo de optimización MILP con la librería PuLP."
   ]
  },
  {
   "cell_type": "code",
   "execution_count": 217,
   "metadata": {},
   "outputs": [],
   "source": [
    "lp = pulp.LpProblem(\"matching_cursos\", pulp.LpMaximize)"
   ]
  },
  {
   "cell_type": "markdown",
   "metadata": {},
   "source": [
    "### Parámetros:\n",
    "\n",
    "1) **Peso académico $peso_a$:** vector con los pesos que se le asigna a cada alumno para darle prioridad de inscripción frente a otros. La fórmula que se usa está descripta en el siguiente documento de inscripción: http://siga.frba.utn.edu.ar/up/docs/preinsweb.pdf y es la siguiente:\n",
    "\n",
    "$$ PESO = 11*CMA - 5*AA - 3*CMD $$ \n",
    "\n",
    "Siendo $CMA$, la cantidad de materias aprobadas, $AA$, los años de antigüedad en la facultad y $CMD$, la cantidad de materias desaprobadas\n",
    "Creamos tres vectores con datos ficticios de alumnos para $CMA$, $AA$ y $CMD$.\n",
    "\n",
    "Dado que no tenemos datasets reales de información de alumnos, los recreamos mediante sampleos con el siguiente procedimiento:\n",
    "- Se calcula el vector de antigüedad por cada alumno. El dataset tiene en cuenta que el tiempo total de cada alumno en la facultad es una variable aleatoria que sigue una distribución beta binomial: $T_a \\sim \\beta bin(\\alpha,\\beta,n)$. Se eligió esta distribución porque es sabido que hay mayor cantidad de alumnos en primeros años que en los últimos.\n",
    "- Se calcula el vector de materias aprobadas. Se asume que se puede cursar un máximo de materias por año. Dado el tiempo que el alumno estuvo en la facultad, la cantidad de materias aprobadas se considera una variable aleatoria que siguen una distribución binomial: $Qap_a \\sim B(n,p)$\n",
    "- El cálculo del vector de materias desaprobadas es igual al de aprobadas. Es una variable aleatoria que sigue una distribución binomial: $Qde_a \\sim B(n,p)$\n",
    "- Se calcula el peso académico con la fórmula antes definida.\n",
    "\n",
    "Es importante aclarar que para los sampleos de la cantidad de materias aprobadas y desaprobadas, el tiempo que el alumno pasó en la facultad incide en el valor de la variable aleatoria. Por ejemplo, para el caso de las materias aprobadas, suponiendo que el alumno estuvo dos años en la facultad, existe una variable aleatoria para el primer año $Qap_{a}^{1ero}$ y para el segundo $Qap_{a}^{2do}$. La cantidad total aprobada sería $Qap_{a}^{tot} = Qap_{a}^{1ero} + Qap_{a}^{2do}$.\n",
    "\n",
    "Como cada variable sigue la distribución binomial con el parámetro $p$ igual, sabemos que en la suma de binomiales se cumple: $Qap_{a}^{tot} \\sim B(n_1 + n_2, p)$. Pero además, dijimos que el parámetro $n$ es igual para todos los años, por lo tanto, el parámetro $n_{tot} = (T_a + 1) * n$. Recordemos que $T_a$ es la variable aleatoria que respresenta los años que pasó el alumno en la facultad.\n",
    "\n",
    "Resumiendo, el sampleo de la variable se especifica como: $Qap_{a}^{tot} \\sim B(n_{tot}, p)$\n",
    "\n",
    "Por último, se debe controlar que la variable aleatoria no supere el número máximo de materias en la facultad. Es decir, establecer una cota máxima igual a la cantidad total de materias."
   ]
  },
  {
   "cell_type": "code",
   "execution_count": 218,
   "metadata": {},
   "outputs": [
    {
     "name": "stdout",
     "output_type": "stream",
     "text": [
      "==> 10 primeros alumnos:\n",
      "   años  aprobadas  desaprobadas  peso\n",
      "0     0          6             1    63\n",
      "1     2         14             4   132\n",
      "2     3         23             0   238\n",
      "3     1         12             1   124\n",
      "4     3         25             4   248\n",
      "5     0          4             0    44\n",
      "6     1         12             0   127\n",
      "7     1          9             2    88\n",
      "8     1          7             1    69\n",
      "9     1         11             2   110\n"
     ]
    }
   ],
   "source": [
    "def beta_binomial(alfa, beta, n, size=None):\n",
    "    p = np.random.beta(alfa, beta, size=size)\n",
    "    sample = np.random.binomial(n, p)\n",
    "    return sample\n",
    "\n",
    "# Cálculo de peso académico:\n",
    "# Años de antiguedad en la facultad:\n",
    "aa_vector = beta_binomial(alfa_t_cursada, beta_t_cursada, n_t_cursada, size = num_alumnos)\n",
    "\n",
    "# Cantidad de materias aprobadas:\n",
    "n_aprobadas_vector = (aa_vector + 1) * n_aprobadas # calcular el n total\n",
    "cma_vector = rnd.binomial(n_aprobadas_vector, p_aprobadas) # samplear\n",
    "cma_vector = np.clip(cma_vector, 0, num_materias) # Evitar que haya alumnos con más materias aprobadas que totales.\n",
    "\n",
    "# # Cantidad de materias desaprobadas:\n",
    "n_desaprobadas_vector = (aa_vector + 1) * n_desaprobadas # calcular el n total\n",
    "cmd_vector = rnd.binomial(n_desaprobadas_vector, p_desaprobadas) # samplear\n",
    "cmd_vector = np.clip(cmd_vector, 0, num_materias) # Evitar que haya alumnos con más materias aprobadas que totales.\n",
    "\n",
    "# Vector de peso académico:\n",
    "peso_alumno = 11 * cma_vector - 5 * aa_vector - 3 * cmd_vector\n",
    "\n",
    "# Print de los primeros 10 valores de sampleo:\n",
    "resumen_alumnos_df = pd.DataFrame({'años': aa_vector, 'aprobadas': cma_vector, 'desaprobadas': cmd_vector, 'peso': peso_alumno})\n",
    "print('==> 10 primeros alumnos:')\n",
    "print(resumen_alumnos_df.head(10))"
   ]
  },
  {
   "cell_type": "markdown",
   "metadata": {},
   "source": [
    "2) **Capacidad del curso $qcurso_c$:** vector que contiene el cupo de cada curso. El dataset se calcula mediante una distribución uniforme entre los valores mínimos y máximos de cupo."
   ]
  },
  {
   "cell_type": "code",
   "execution_count": 219,
   "metadata": {},
   "outputs": [
    {
     "name": "stdout",
     "output_type": "stream",
     "text": [
      "==> cupos de 10 primeros cursos:\n",
      "   cupo\n",
      "0    44\n",
      "1    29\n",
      "2    41\n",
      "3    27\n",
      "4    38\n",
      "5    31\n",
      "6    49\n",
      "7    25\n",
      "8    33\n",
      "9    39\n"
     ]
    }
   ],
   "source": [
    "q_curso = rnd.randint(low=min_cupo, high=max_cupo, size=num_materias)\n",
    "\n",
    "# Print de los primeros 10 valores de sampleo:\n",
    "resumen_cursos_df = pd.DataFrame({'cupo': q_curso})\n",
    "print('==> cupos de 10 primeros cursos:')\n",
    "print(resumen_cursos_df.head(10))"
   ]
  },
  {
   "cell_type": "markdown",
   "metadata": {},
   "source": [
    "3) **Horarios de cada materia $horarios_{c,m}$:** matriz con filas por cada curso y columnas por cada módulo. Es una matriz binaria que indica los módulos ocupados por cada materia. Un bloque es un conjunto de módulos, y una materia puede tener más de un bloque por semana. Es decir, una materia puede cursarse varias veces a la semana y cada cursada implica varios módulos horarios."
   ]
  },
  {
   "cell_type": "code",
   "execution_count": 220,
   "metadata": {},
   "outputs": [],
   "source": [
    "# Horarios de cada materia (aleatorios):\n",
    "horarios = np.zeros((num_materias, num_modulos))\n",
    "for c in range(0, num_materias):\n",
    "    n_modulos_por_bloque = rnd.randint(low=1, high=4)\n",
    "    n_bloques = rnd.randint(low=1, high=4)\n",
    "    rnd_module = rnd.randint(num_modulos-n_modulos_por_bloque, size=n_bloques)\n",
    "\n",
    "    for inicio_bloque in rnd_module:\n",
    "        horarios[c, inicio_bloque:inicio_bloque+2] = 1"
   ]
  },
  {
   "cell_type": "markdown",
   "metadata": {},
   "source": [
    "4) **Requerimientos de alumnos $req_{a,c}$:** matriz con filas por cada alumno y columnas por cada materia. Es una matriz binaria que indica las materias elegidas por cada alumno."
   ]
  },
  {
   "cell_type": "code",
   "execution_count": 221,
   "metadata": {},
   "outputs": [],
   "source": [
    "# Requerimientos de cursada de cada alumno:\n",
    "# Matrix de requerimientos:\n",
    "req = np.zeros((num_alumnos, num_materias))\n",
    "for alumno_i, aprobadas_i in enumerate(cma_vector):\n",
    "    # Materiasa inscribirse para el alumno_i:\n",
    "    materias_a_inscribirse = min(n_inscripcion, num_materias - aprobadas_i)\n",
    "    # Sampleo binario para saber su selección de cursos:\n",
    "    materias_elegidas = rnd.choice([1, 0], size=materias_a_inscribirse, p=[p_inscripcion,1-p_inscripcion])\n",
    "    # Para segmentar a los alumnos se insertan las materias a cursar en diferentes partes de la matriz dependiendo\n",
    "    # de la cantidad de materias aprobadas por el alumno hasta la fecha. Esto intenta recrear la inscripción a materias\n",
    "    # de distinto año:\n",
    "    columna_inicial = aprobadas_i\n",
    "    columna_final = aprobadas_i + materias_a_inscribirse\n",
    "    req[alumno_i, columna_inicial:columna_final] = materias_elegidas"
   ]
  },
  {
   "cell_type": "markdown",
   "metadata": {},
   "source": [
    "### Definimos los sets y variables:\n",
    "- set para alumnos $ aset = \\{0, 1, .. , a, .. n\\}$\n",
    "- set para cursos $ cset = \\{0, 1, .. , c, .. n\\}$\n",
    "- set para modulos $ mset = \\{0, 1, .. , m, .. n\\}$\n",
    "\n",
    "Además, la variable $X_{a,c}$ binaria, que indica la decisión de asignar (1) o no (0) al alumno $a$ al curso $c$"
   ]
  },
  {
   "cell_type": "code",
   "execution_count": 222,
   "metadata": {},
   "outputs": [],
   "source": [
    "t0 = time.time()\n",
    "# Sets:\n",
    "a_set = list(range(0, num_alumnos))\n",
    "c_set = list(range(0, num_materias))\n",
    "m_set = list(range(0, num_modulos))\n",
    "\n",
    "# Variables:\n",
    "X = pulp.LpVariable.dicts('X', (a_set, c_set), 0, 1, cat='Binary') # Variable de asignación alumno 'a' a curso 'c'."
   ]
  },
  {
   "cell_type": "markdown",
   "metadata": {},
   "source": [
    "### Función objetivo\n",
    "Es la suma de las variables de decisión de asignar un alumno $a$ al curso $c$, ponderada por el peso académico de cada alumno.\n",
    "\n",
    "$$Min Z = \\sum_{a}\\sum_{c}peso_a * X_{a,c}$$"
   ]
  },
  {
   "cell_type": "code",
   "execution_count": 223,
   "metadata": {},
   "outputs": [],
   "source": [
    "Z = [peso_alumno[a] * X[a][c] for a in a_set for c in c_set]\n",
    "lp += pulp.lpSum(pulp.lpSum(Z)), 'Z'"
   ]
  },
  {
   "cell_type": "markdown",
   "metadata": {},
   "source": [
    "### Restricciones:\n",
    "1) La suma de los alumnos asignados al curso $c$ debe ser menor o igual a su capacidad, es decir al cupo.\n",
    "\n",
    "$$\\sum_{a} X_{a,c} \\leq qcurso_c \\quad \\forall c$$"
   ]
  },
  {
   "cell_type": "code",
   "execution_count": 224,
   "metadata": {},
   "outputs": [],
   "source": [
    "for c in c_set:\n",
    "    lp += pulp.lpSum([X[a][c] for a in a_set]) <= q_curso[c]"
   ]
  },
  {
   "cell_type": "markdown",
   "metadata": {},
   "source": [
    "2) La decisión de asignar el alumno $a$ al curso $c$ debe ser menor o igual al requerimiento del alumno $a$ para ser asignado al curso $c$. Esto quiere decir, que la decisión de inscribir a un alumno a un curso, solo puede ocurrir si el mismo pidió ser asignado. Sin embargo, la desigualdad implica que puede ocurrir que el alumno no quede inscripto por falta de cupo.\n",
    "\n",
    "$$ X_{a,c} \\leq req_{a,c} \\quad \\forall a, \\forall c$$"
   ]
  },
  {
   "cell_type": "code",
   "execution_count": 225,
   "metadata": {},
   "outputs": [],
   "source": [
    "for a in a_set: \n",
    "    for c in c_set:\n",
    "        lp += X[a][c] <= req[a][c]"
   ]
  },
  {
   "cell_type": "markdown",
   "metadata": {},
   "source": [
    "3) Los módulos $m$ de cada alumno $a$ solo pueden ser ocupados por una materia $c$. Esto quiere decir que no puede existir superposición de materias para el mismo horario. \n",
    "\n",
    "$$ \\sum_{c} horarios_{c,m} * X_{a,c} \\leq 1 \\quad \\forall a, \\forall m$$"
   ]
  },
  {
   "cell_type": "code",
   "execution_count": 226,
   "metadata": {},
   "outputs": [],
   "source": [
    "for a in a_set:\n",
    "    for m in m_set:\n",
    "        lp += pulp.lpSum([horarios[c][m] * X[a][c] for c in c_set]) <= 1"
   ]
  },
  {
   "cell_type": "markdown",
   "metadata": {},
   "source": [
    "### Resolución del modelo y resultados:"
   ]
  },
  {
   "cell_type": "code",
   "execution_count": 227,
   "metadata": {},
   "outputs": [
    {
     "name": "stdout",
     "output_type": "stream",
     "text": [
      "==> Estado de resolución del modelo: Optimal\n",
      "\n",
      "==> Tiempo de cálculo: 3.89 seg.\n",
      "\n",
      "==> Valor de la función objetivo: 206108.0\n",
      "\n",
      "==> Valores de las primeras 10 variables:\n",
      "  Variable  Value\n",
      "0    X_0_0    0.0\n",
      "1    X_0_1    0.0\n",
      "2   X_0_10    0.0\n",
      "3   X_0_11    0.0\n",
      "4   X_0_12    0.0\n",
      "5   X_0_13    0.0\n",
      "6   X_0_14    0.0\n",
      "7   X_0_15    0.0\n",
      "8   X_0_16    0.0\n",
      "9   X_0_17    0.0\n"
     ]
    }
   ],
   "source": [
    "t0 = time.time()\n",
    "lp.solve()\n",
    "tf = time.time()\n",
    "\n",
    "resultado_df = pd.DataFrame([(variable.name, variable.varValue) for variable in lp.variables()],\n",
    "                            columns={'Variable', 'Value'})\n",
    "\n",
    "print('==> Estado de resolución del modelo: %s' % pulp.LpStatus[lp.status])\n",
    "print('\\n==> Tiempo de cálculo: %0.2f seg.' % (tf - t0))\n",
    "print('\\n==> Valor de la función objetivo: %s' % pulp.value(lp.objective))\n",
    "print('\\n==> Valores de las primeras 10 variables:')\n",
    "print(resultado_df.head(10))"
   ]
  },
  {
   "cell_type": "markdown",
   "metadata": {},
   "source": [
    "## Gráfico de horarios:\n",
    "Elegimos tres alumnos aleatorios, graficamos la grilla de módulos según el día y buscamos visualizar las materias que le fueron asignadas."
   ]
  },
  {
   "cell_type": "code",
   "execution_count": 228,
   "metadata": {},
   "outputs": [
    {
     "data": {
      "image/png": "[encoded data removed]",
      "text/plain": [
       "<matplotlib.figure.Figure at 0x20247336c18>"
      ]
     },
     "metadata": {
      "needs_background": "light"
     },
     "output_type": "display_data"
    }
   ],
   "source": [
    "fig, axs = plt.subplots(1, 3, figsize=(10, 20))\n",
    "fig.subplots_adjust(hspace = .5, wspace=0.2)\n",
    "\n",
    "for ax, alumno in zip(axs, rnd.choice(a_set, 3, replace=False)):\n",
    "    aa = np.zeros((num_modulos))\n",
    "    for c in c_set:\n",
    "        if X[alumno][c].varValue:\n",
    "            aa = aa + horarios[c]*c\n",
    "    aa_array = np.array(aa).reshape((5, 12)).transpose().astype(int)\n",
    "\n",
    "    # mostrar matriz:\n",
    "    ax.matshow(aa_array, cmap=ListedColormap(['w', 'g']))\n",
    "    \n",
    "    # labels de cada curso:\n",
    "    for x in range(0, aa_array.shape[0]):\n",
    "        for y in range(0, aa_array.shape[1]):\n",
    "            if aa_array[x, y] != 0:\n",
    "                ax.text(y, x, aa_array[x, y], ha=\"center\", va=\"center\")\n",
    "    \n",
    "    # ticks mayores:\n",
    "    ax.set_xticks(np.arange(0, 5, 1));\n",
    "    ax.set_yticks(np.arange(0, 12, 1));\n",
    "\n",
    "    # labels:\n",
    "    dias = ['Lu', 'Ma', 'Mi', 'Ju', 'Vi']\n",
    "    ax.set_xticklabels(dias)\n",
    "    ax.set_yticklabels(np.arange(1, 13, 1));\n",
    "\n",
    "    # ticks menores:\n",
    "    ax.set_xticks(np.arange(-.5, 5, 1), minor=True);\n",
    "    ax.set_yticks(np.arange(-.5, 12, 1), minor=True);\n",
    "    \n",
    "    ax.grid(which='minor', color='k', linestyle='-', linewidth=0.5)\n",
    "\n",
    "plt.show()"
   ]
  },
  {
   "cell_type": "code",
   "execution_count": null,
   "metadata": {},
   "outputs": [],
   "source": []
  }
 ],
 "metadata": {
  "kernelspec": {
   "display_name": "Python 3",
   "language": "python",
   "name": "python3"
  },
  "language_info": {
   "codemirror_mode": {
    "name": "ipython",
    "version": 3
   },
   "file_extension": ".py",
   "mimetype": "text/x-python",
   "name": "python",
   "nbconvert_exporter": "python",
   "pygments_lexer": "ipython3",
   "version": "3.8.5"
  },
  "toc": {
   "base_numbering": 1,
   "nav_menu": {},
   "number_sections": true,
   "sideBar": true,
   "skip_h1_title": true,
   "title_cell": "Table of Contents",
   "title_sidebar": "Contents",
   "toc_cell": true,
   "toc_position": {},
   "toc_section_display": true,
   "toc_window_display": true
  },
  "varInspector": {
   "cols": {
    "lenName": 16,
    "lenType": 16,
    "lenVar": 40
   },
   "kernels_config": {
    "python": {
     "delete_cmd_postfix": "",
     "delete_cmd_prefix": "del ",
     "library": "var_list.py",
     "varRefreshCmd": "print(var_dic_list())"
    },
    "r": {
     "delete_cmd_postfix": ") ",
     "delete_cmd_prefix": "rm(",
     "library": "var_list.r",
     "varRefreshCmd": "cat(var_dic_list()) "
    }
   },
   "types_to_exclude": [
    "module",
    "function",
    "builtin_function_or_method",
    "instance",
    "_Feature"
   ],
   "window_display": false
  }
 },
 "nbformat": 4,
 "nbformat_minor": 2
}
