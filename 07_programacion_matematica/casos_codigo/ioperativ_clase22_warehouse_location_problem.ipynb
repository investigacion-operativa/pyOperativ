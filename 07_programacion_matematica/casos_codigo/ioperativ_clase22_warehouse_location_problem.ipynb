{
  "nbformat": 4,
  "nbformat_minor": 0,
  "metadata": {
    "colab": {
      "name": "ioperativ_clase22_warehouse_location_problem.ipynb",
      "provenance": []
    },
    "kernelspec": {
      "name": "python3",
      "display_name": "Python 3"
    },
    "language_info": {
      "name": "python"
    }
  },
  "cells": [
    {
      "cell_type": "markdown",
      "metadata": {
        "id": "x2shvv45lvIT"
      },
      "source": [
        "-----------------------------------\n",
        "#### **Programacion Entera con Python: Caso Warehouse location**\n",
        "**Universidad Tecnologica Nacional - Facultad Buenos Aires** <br>\n",
        "**Ingenieria Industrial**<br>\n",
        "**Investigacion Operativa** <br>\n",
        "Autor: Martin Palazzo + Caylie Cincera (https://www.youtube.com/watch?v=5I0mhX0973o) <br>\n",
        "Curso I4051 <br>\n",
        "\n"
      ]
    },
    {
      "cell_type": "code",
      "metadata": {
        "colab": {
          "base_uri": "https://localhost:8080/"
        },
        "id": "eyOZiKieU-NX",
        "outputId": "2752a0d0-c2c7-4b6d-c956-0d5753182f8e"
      },
      "source": [
        "pip install pulp"
      ],
      "execution_count": 20,
      "outputs": [
        {
          "output_type": "stream",
          "name": "stdout",
          "text": [
            "Collecting pulp\n",
            "  Downloading PuLP-2.5.1-py3-none-any.whl (41.2 MB)\n",
            "\u001b[K     |████████████████████████████████| 41.2 MB 78 kB/s \n",
            "\u001b[?25hInstalling collected packages: pulp\n",
            "Successfully installed pulp-2.5.1\n"
          ]
        }
      ]
    },
    {
      "cell_type": "code",
      "metadata": {
        "id": "-fdl4hcSQ_fE"
      },
      "source": [
        "import numpy as np\n",
        "import matplotlib.pyplot as plt\n",
        "import seaborn as sns\n",
        "import pulp\n",
        "from pulp import LpProblem\n",
        "from pulp import LpMinimize\n",
        "from pulp import LpVariable\n",
        "from pulp import LpBinary\n",
        "from pulp import *"
      ],
      "execution_count": 37,
      "outputs": []
    },
    {
      "cell_type": "markdown",
      "metadata": {
        "id": "PsiIQo6Rr3bQ"
      },
      "source": [
        "$$\n",
        "\\begin{matrix}\n",
        "c_{ij} & = & \\text{costo de transportar del centro j al cliente i} \\\\\n",
        "x_{ij} & = &\\text{el centro j provee al cliente i} \\\\\n",
        "u_j & = &\\text{costo fijo de construir el centro j} \\\\\n",
        "w_j & = &\\text{variable de existencia del centro j}\n",
        "\\end{matrix}\n",
        "$$"
      ]
    },
    {
      "cell_type": "markdown",
      "metadata": {
        "id": "uEOLTeZCrwSS"
      },
      "source": [
        "$$\n",
        "\\begin{matrix}\n",
        "\\underset{x}{\\text{min }} & \\sum_{i = 1}^{n}\\sum_{j = 1}^{m} c_{ij} x_{ij} + \\sum_{j = 1}^{m} u_j w_j \\\\ \n",
        "& \\\\\n",
        "\\text{s.t. } & \\sum_{j = 1}^{m} x_{ij} = 1 \\\\ \n",
        "\\\\\n",
        "& x_{ij} \\leq d_i w_j  \\\\\n",
        "& x_{ij} \\in \\{ 0,1\\} \\\\\n",
        "& w_{j} \\in \\{ 0,1\\}\n",
        "\\end{matrix}\n",
        "$$"
      ]
    },
    {
      "cell_type": "code",
      "metadata": {
        "id": "ofWyDnTOSE40"
      },
      "source": [
        "# definimos la cantidad de clientes\n",
        "clientes = [1,2,3,4,5]\n",
        "# definimos la cantidad de depositos\n",
        "warehouses = ['w1','w2','w3']\n",
        "\n",
        "# demanda de cada cliente\n",
        "demanda = {1:80,\n",
        "           2:270,\n",
        "           3:250,\n",
        "           4:160,\n",
        "           5:180}\n",
        "\n",
        "# costo de activar cada warehouse\n",
        "wcost = {'w1':1000,'w2':1000,'w3':1000}\n",
        "\n",
        "# maxima cantidad que puede mover cada warehouse\n",
        "max_q = {'w1':500,'w2':500,'w3':500}\n",
        "\n",
        "# costo de transporte warehouse-cliente\n",
        "transp_c = {'w1': {1 : 4, 2:5 , 3:6 , 4:8, 5:10},\n",
        "            'w2': {1 : 6, 2:4 , 3:3 , 4:5, 5:8},\n",
        "            'w3': {1 : 9, 2:7 , 3:4 , 4:3, 5:4}}"
      ],
      "execution_count": 38,
      "outputs": []
    },
    {
      "cell_type": "code",
      "metadata": {
        "id": "0-BwXLeVffH5"
      },
      "source": [
        "# definir el problema en pulp\n",
        "opt = LpProblem(\"warehouseLocation\", LpMinimize)\n",
        "\n",
        "# definir las variables de decision Xij\n",
        "xij = LpVariable.dicts(\"Servicio\", [(i,j) for i in clientes\n",
        "                                                for j in warehouses], 0)\n",
        "# definir la Wj\n",
        "Uj = LpVariable.dicts(\"UsarLocacion\", warehouses,0,1,LpBinary)\n",
        "\n",
        "# funcion objetivo\n",
        "opt += lpSum(wcost[j]*Uj[j] for j in warehouses) + lpSum(transp_c[j][i]*xij[(i,j)] for j in warehouses for i in clientes)\n",
        "\n",
        "# restricciones 1\n",
        "for i in clientes:\n",
        "  opt += lpSum(xij[(i,j)] for j in warehouses) == demanda[i] \n",
        "\n",
        "# restruccion 1\n",
        "for j in warehouses:\n",
        "  opt += lpSum(xij[(i,j)] for i in clientes) <= max_q[j]*Uj[j] \n",
        "\n",
        "for i in clientes:\n",
        "  for j in warehouses:\n",
        "    opt += xij[(i,j)] <= demanda[i]*Uj[j]"
      ],
      "execution_count": 45,
      "outputs": []
    },
    {
      "cell_type": "code",
      "metadata": {
        "colab": {
          "base_uri": "https://localhost:8080/"
        },
        "id": "kakda4-KffMs",
        "outputId": "cd1eaec6-b95b-41e0-a028-572837815939"
      },
      "source": [
        "# solucion\n",
        "opt.solve()"
      ],
      "execution_count": 46,
      "outputs": [
        {
          "output_type": "execute_result",
          "data": {
            "text/plain": [
              "1"
            ]
          },
          "metadata": {},
          "execution_count": 46
        }
      ]
    },
    {
      "cell_type": "code",
      "metadata": {
        "colab": {
          "base_uri": "https://localhost:8080/"
        },
        "id": "prxhDaGfffPm",
        "outputId": "140bfba7-3aa1-467f-b888-28a0cfed9ad1"
      },
      "source": [
        "# imprimir las variables de decision Wj \n",
        "tol = 0.00001\n",
        "for i in warehouses:\n",
        "  if Uj[i].varValue > tol:\n",
        "    print(\"Construir un warehouse en el sitio \",i)"
      ],
      "execution_count": 47,
      "outputs": [
        {
          "output_type": "stream",
          "name": "stdout",
          "text": [
            "Construir un warehouse en el sitio  w2\n",
            "Construir un warehouse en el sitio  w3\n"
          ]
        }
      ]
    },
    {
      "cell_type": "code",
      "metadata": {
        "colab": {
          "base_uri": "https://localhost:8080/"
        },
        "id": "fTV1bTUUkg1C",
        "outputId": "1d832c2a-cd24-4e4b-b442-bd0bdc99215d"
      },
      "source": [
        "# imprimir las variables de decision Xij\n",
        "for q in opt.variables():\n",
        "  print(q.name,\"=\",q.varValue)"
      ],
      "execution_count": 48,
      "outputs": [
        {
          "output_type": "stream",
          "name": "stdout",
          "text": [
            "Servicio_(1,_'w1') = 0.0\n",
            "Servicio_(1,_'w2') = 80.0\n",
            "Servicio_(1,_'w3') = 0.0\n",
            "Servicio_(2,_'w1') = 0.0\n",
            "Servicio_(2,_'w2') = 270.0\n",
            "Servicio_(2,_'w3') = 0.0\n",
            "Servicio_(3,_'w1') = 0.0\n",
            "Servicio_(3,_'w2') = 150.0\n",
            "Servicio_(3,_'w3') = 100.0\n",
            "Servicio_(4,_'w1') = 0.0\n",
            "Servicio_(4,_'w2') = 0.0\n",
            "Servicio_(4,_'w3') = 160.0\n",
            "Servicio_(5,_'w1') = 0.0\n",
            "Servicio_(5,_'w2') = 0.0\n",
            "Servicio_(5,_'w3') = 180.0\n",
            "UsarLocacion_w1 = 0.0\n",
            "UsarLocacion_w2 = 1.0\n",
            "UsarLocacion_w3 = 1.0\n"
          ]
        }
      ]
    },
    {
      "cell_type": "code",
      "metadata": {
        "colab": {
          "base_uri": "https://localhost:8080/"
        },
        "id": "oCYHITTpSKrr",
        "outputId": "dc4c7f9e-690f-4053-a03d-cc6fc631c17f"
      },
      "source": [
        "# imprimir la funcion objetivo en el optimo\n",
        "print('El costo de la operacion es de = ', value(opt.objective))"
      ],
      "execution_count": 49,
      "outputs": [
        {
          "output_type": "stream",
          "name": "stdout",
          "text": [
            "El costo de la operacion es de =  5610.0\n"
          ]
        }
      ]
    },
    {
      "cell_type": "code",
      "metadata": {
        "id": "OK46Jkelqgdm"
      },
      "source": [
        ""
      ],
      "execution_count": null,
      "outputs": []
    }
  ]
}