{
 "cells": [
  {
   "cell_type": "code",
   "execution_count": 126,
   "id": "c771f830",
   "metadata": {},
   "outputs": [],
   "source": [
    "import numpy as np\n",
    "from itertools import cycle\n",
    "\n",
    "# Datos.\n",
    "predecesores = [\n",
    "    [],\n",
    "    [0],\n",
    "    [0, 1, 3],\n",
    "    [1],\n",
    "    [2, 3, 5],\n",
    "    [3]\n",
    "]\n",
    "\n",
    "sucesores = [\n",
    "    [1, 2],\n",
    "    [2, 3],\n",
    "    [4],\n",
    "    [2, 4, 5],\n",
    "    [],\n",
    "    [4]\n",
    "]\n",
    "\n",
    "tiempos = np.array([\n",
    "    [None,    2,    4, None, None, None],\n",
    "    [None, None,    1,    4, None, None],\n",
    "    [None, None, None, None,    3, None],\n",
    "    [None, None,    2, None,    3,    2],\n",
    "    [None, None, None, None, None, None],\n",
    "    [None, None, None, None,    2, None]\n",
    "])\n",
    "\n",
    "n_nodos = tiempos.shape[0]"
   ]
  },
  {
   "cell_type": "code",
   "execution_count": 127,
   "id": "0c7f28ae",
   "metadata": {},
   "outputs": [],
   "source": [
    "# Validar cálculo de fecha temprana.\n",
    "def validar_nodo_actual_temprana(nodo_actual):\n",
    "    \n",
    "    resultado = True\n",
    "    \n",
    "    predecesores_actual = predecesores[nodo_actual]\n",
    "    \n",
    "    for p in predecesores_actual:\n",
    "        \n",
    "        if fecha_temp[p] == None:\n",
    "        \n",
    "            resultado = False\n",
    "            \n",
    "            break\n",
    "    \n",
    "    return resultado\n",
    "            \n",
    "# Cálculo de fecha temprana.\n",
    "def calcular_fecha_temprana(nodo_actual):\n",
    "\n",
    "    predecesores_actual = predecesores[nodo_actual]\n",
    "\n",
    "    t_candidato = 0\n",
    "        \n",
    "    for p in predecesores_actual:\n",
    "\n",
    "        fecha_temp_p = fecha_temp[p]\n",
    "\n",
    "        tiempo_actual_p = tiempos[p, nodo_actual]\n",
    "\n",
    "        t_candidato_nuevo = fecha_temp_p + tiempo_actual_p\n",
    "\n",
    "        t_candidato = max(t_candidato_nuevo, t_candidato)\n",
    "\n",
    "    return t_candidato\n",
    "    "
   ]
  },
  {
   "cell_type": "code",
   "execution_count": 128,
   "id": "17658260",
   "metadata": {},
   "outputs": [],
   "source": [
    "\n",
    "# Algoritmo hacia adelante, cálculo de fechas tempranas.\n",
    "fecha_temp = [None] * n_nodos\n",
    "fecha_temp[0] = 0\n",
    "\n",
    "nodos_faltantes = list(range(1, n_nodos))\n",
    "\n",
    "while len(nodos_faltantes) != 0:\n",
    "    \n",
    "    iterable_nodos_faltantes = cycle(nodos_faltantes)\n",
    "    \n",
    "    validacion_nodo = False\n",
    "    \n",
    "    while validacion_nodo == False:\n",
    "    \n",
    "        nodo_actual = next(iterable_nodos_faltantes)\n",
    "    \n",
    "        validacion_nodo = validar_nodo_actual_temprana(nodo_actual)\n",
    "        \n",
    "    fecha_temp_actual = calcular_fecha_temprana(nodo_actual)\n",
    "    \n",
    "    fecha_temp[nodo_actual] = fecha_temp_actual\n",
    "    \n",
    "    nodos_faltantes.remove(nodo_actual)\n",
    "    \n",
    "    "
   ]
  },
  {
   "cell_type": "code",
   "execution_count": 129,
   "id": "dc720e19",
   "metadata": {},
   "outputs": [
    {
     "data": {
      "text/plain": [
       "[0, 2, 8, 6, 11, 8]"
      ]
     },
     "execution_count": 129,
     "metadata": {},
     "output_type": "execute_result"
    }
   ],
   "source": [
    "fecha_temp"
   ]
  },
  {
   "cell_type": "code",
   "execution_count": 132,
   "id": "86039549",
   "metadata": {},
   "outputs": [],
   "source": [
    "# Validar cálculo de fecha tardía.\n",
    "def validar_nodo_actual_tardia(nodo_actual):\n",
    "    \n",
    "    resultado = True\n",
    "    \n",
    "    sucesores_actual = sucesores[nodo_actual]\n",
    "    \n",
    "    for s in sucesores_actual:\n",
    "        \n",
    "        if fecha_tard[s] == None:\n",
    "        \n",
    "            resultado = False\n",
    "            \n",
    "            break\n",
    "    \n",
    "    return resultado\n",
    "            \n",
    "# Calcular fecha tardía.\n",
    "def calcular_fecha_tardia(nodo_actual):\n",
    "\n",
    "    sucesores_actual = sucesores[nodo_actual]\n",
    "\n",
    "    t_candidato = 999\n",
    "        \n",
    "    for s in sucesores_actual:\n",
    "\n",
    "        fecha_tard_s = fecha_tard[s]\n",
    "\n",
    "        tiempo_actual_s = tiempos[nodo_actual, s]\n",
    "\n",
    "        t_candidato_nuevo = fecha_tard_s - tiempo_actual_s\n",
    "\n",
    "        t_candidato = min(t_candidato_nuevo, t_candidato)\n",
    "\n",
    "    return t_candidato"
   ]
  },
  {
   "cell_type": "code",
   "execution_count": 136,
   "id": "c04d1bfd",
   "metadata": {},
   "outputs": [],
   "source": [
    "\n",
    "# Proceso de cálculo hacia atrás, cálculo de fecha tardía.\n",
    "fecha_tard = [None] * n_nodos\n",
    "\n",
    "fecha_tard[4] = fecha_temp[4]\n",
    "\n",
    "nodos_faltantes = list(range(0, n_nodos))\n",
    "nodos_faltantes.remove(4)\n",
    "\n",
    "while len(nodos_faltantes) != 0:\n",
    "    \n",
    "    iterable_nodos_faltantes = cycle(nodos_faltantes)\n",
    "    \n",
    "    validacion_nodo = False\n",
    "    \n",
    "    while validacion_nodo == False:\n",
    "    \n",
    "        nodo_actual = next(iterable_nodos_faltantes)\n",
    "    \n",
    "        validacion_nodo = validar_nodo_actual_tardia(nodo_actual)\n",
    "        \n",
    "    fecha_tard_actual = calcular_fecha_tardia(nodo_actual)\n",
    "    \n",
    "    fecha_tard[nodo_actual] = fecha_tard_actual\n",
    "    \n",
    "    nodos_faltantes.remove(nodo_actual)"
   ]
  },
  {
   "cell_type": "code",
   "execution_count": 135,
   "id": "a1ba610d",
   "metadata": {},
   "outputs": [
    {
     "data": {
      "text/plain": [
       "[0, 2, 8, 6, 11, 9]"
      ]
     },
     "execution_count": 135,
     "metadata": {},
     "output_type": "execute_result"
    }
   ],
   "source": [
    "fecha_tard"
   ]
  },
  {
   "cell_type": "code",
   "execution_count": null,
   "id": "d8649895",
   "metadata": {},
   "outputs": [],
   "source": []
  }
 ],
 "metadata": {
  "kernelspec": {
   "display_name": "Python 3",
   "language": "python",
   "name": "python3"
  },
  "language_info": {
   "codemirror_mode": {
    "name": "ipython",
    "version": 3
   },
   "file_extension": ".py",
   "mimetype": "text/x-python",
   "name": "python",
   "nbconvert_exporter": "python",
   "pygments_lexer": "ipython3",
   "version": "3.8.8"
  }
 },
 "nbformat": 4,
 "nbformat_minor": 5
}
