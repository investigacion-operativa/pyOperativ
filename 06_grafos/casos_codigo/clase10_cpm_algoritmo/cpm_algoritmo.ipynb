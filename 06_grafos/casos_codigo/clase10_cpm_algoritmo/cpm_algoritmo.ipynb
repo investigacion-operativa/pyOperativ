{
 "cells": [
  {
   "cell_type": "code",
   "execution_count": null,
   "metadata": {},
   "outputs": [],
   "source": [
    "import numpy as np"
   ]
  },
  {
   "cell_type": "code",
   "execution_count": null,
   "metadata": {},
   "outputs": [],
   "source": [
    "adyacencia = [[1,2], [2], []]\n",
    "precedencia = [[], [0], [0, 1]]\n",
    "\n",
    "d = np.matrix([[0, 5, 10], \n",
    "               [0, 0,  3],\n",
    "               [0, 0,  0]])\n",
    "\n",
    "last = 2\n",
    "n_nodes = 3\n",
    "\n",
    "# armar precedencia\n",
    "temprana = [np.inf for i in range(0, n_nodes)]\n",
    "tardia = [np.inf for i in range(0, n_nodes)]\n",
    "\n",
    "# explorados:\n",
    "explorados"
   ]
  },
  {
   "cell_type": "code",
   "execution_count": null,
   "metadata": {},
   "outputs": [],
   "source": [
    "candidatos = [d[prec_i, head] + temprana[prec_i] for prec_i in precedencia[head]]\n",
    "\n",
    "temprana[head] = max(candidatos)"
   ]
  }
 ],
 "metadata": {
  "kernelspec": {
   "display_name": "Python 3",
   "language": "python",
   "name": "python3"
  },
  "language_info": {
   "codemirror_mode": {
    "name": "ipython",
    "version": 3
   },
   "file_extension": ".py",
   "mimetype": "text/x-python",
   "name": "python",
   "nbconvert_exporter": "python",
   "pygments_lexer": "ipython3",
   "version": "3.8.5"
  }
 },
 "nbformat": 4,
 "nbformat_minor": 4
}
