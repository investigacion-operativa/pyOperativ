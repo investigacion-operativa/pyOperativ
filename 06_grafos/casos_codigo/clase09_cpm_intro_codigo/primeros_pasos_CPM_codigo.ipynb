{
 "cells": [
  {
   "cell_type": "code",
   "execution_count": 17,
   "id": "cccabb02",
   "metadata": {},
   "outputs": [
    {
     "data": {
      "text/plain": [
       "[0, None, None, None, None, None]"
      ]
     },
     "execution_count": 17,
     "metadata": {},
     "output_type": "execute_result"
    }
   ],
   "source": [
    "import numpy as np\n",
    "\n",
    "# 1. número del nodo es el índice de una lista.\n",
    "# [0, 1, 2, 3, ...]\n",
    "\n",
    "lista_sucesores = [\n",
    "    [1, 2],\n",
    "    [3, 2],\n",
    "    [4],\n",
    "    [2, 4, 5],\n",
    "    [],\n",
    "    [4]\n",
    "]\n",
    "\n",
    "# Matriz Nodo-Nodo (análogo a la matriz de transición)\n",
    "NN = np.array(\n",
    "    [\n",
    "        [None, 2, 4, None, None, None],\n",
    "        [None, None, 1, 4, None, None],\n",
    "        [None, None, None, None, 3, None],\n",
    "        [None, None, 2, None, 3, 2],\n",
    "        [None,None, None, None, None, None],\n",
    "        [None, None, None, None, 2, None]\n",
    "    ]\n",
    ")\n",
    "\n",
    "\n",
    "etiquetas_tempranas = [None, None, None, None, None, None]\n",
    "etiquetas_tempranas[0] = 0"
   ]
  },
  {
   "cell_type": "code",
   "execution_count": 9,
   "id": "6161702d",
   "metadata": {},
   "outputs": [],
   "source": [
    "nodo_actual = 4\n",
    "\n",
    "for sucesor in lista_sucesores[nodo_actual]:\n",
    "    NN[nodo_actual, sucesor]\n"
   ]
  },
  {
   "cell_type": "code",
   "execution_count": 11,
   "id": "7668476a",
   "metadata": {},
   "outputs": [
    {
     "data": {
      "text/plain": [
       "[3, 2]"
      ]
     },
     "execution_count": 11,
     "metadata": {},
     "output_type": "execute_result"
    }
   ],
   "source": []
  },
  {
   "cell_type": "code",
   "execution_count": 14,
   "id": "f2b7acd7",
   "metadata": {},
   "outputs": [
    {
     "name": "stdout",
     "output_type": "stream",
     "text": [
      "a\n",
      "c\n",
      "3\n",
      "24\n"
     ]
    }
   ],
   "source": [
    "# estoy en un nodo: 0\n",
    "# me muevo al primer sucesor: 1\n",
    "# me fijo que etiqueta temprana tiene 0: 0\n",
    "# sumo la etiqueta de fecha temprana a la duración de la tarea 0-1 (actual - sucesor): 2\n",
    "# actualizo la lista de etiquetas de fecha temprana"
   ]
  },
  {
   "cell_type": "code",
   "execution_count": 35,
   "id": "c7efe896",
   "metadata": {},
   "outputs": [],
   "source": [
    "# estoy en un nodo: 0\n",
    "nodo_actual = 0\n",
    "\n",
    "# me muevo al primer sucesor: 1\n",
    "primer_sucesor = lista_sucesores[nodo_actual][0]\n",
    "\n",
    "# me fijo que etiqueta temprana tiene 0: 0\n",
    "etiqueta_temprana_actual = etiquetas_tempranas[nodo_actual]\n",
    "\n",
    "# sumo la etiqueta de fecha temprana a la duración de la tarea 0-1 (actual - sucesor): 2\n",
    "# Ftj = Fti + Dij\n",
    "etiqueta_temprana_sucesor = etiqueta_temprana_actual + NN[nodo_actual, primer_sucesor]\n",
    "\n",
    "# actualizo la lista de etiquetas de fecha temprana\n",
    "etiquetas_tempranas[primer_sucesor] = etiqueta_temprana_sucesor"
   ]
  },
  {
   "cell_type": "code",
   "execution_count": 21,
   "id": "3181f04a",
   "metadata": {},
   "outputs": [
    {
     "data": {
      "text/plain": [
       "[0, 2, None, None, None, None]"
      ]
     },
     "execution_count": 21,
     "metadata": {},
     "output_type": "execute_result"
    }
   ],
   "source": [
    "etiquetas_tempranas"
   ]
  },
  {
   "cell_type": "code",
   "execution_count": 36,
   "id": "339ed9d8",
   "metadata": {},
   "outputs": [],
   "source": [
    "# me muevo al primer sucesor del nodo 0\n",
    "nodo_actual = primer_sucesor\n",
    "\n",
    "# me muevo al primer sucesor del nodo actual\n",
    "primer_sucesor = lista_sucesores[nodo_actual][0]\n",
    "\n",
    "# me fijo que etiqueta temprana tiene actual\n",
    "etiqueta_temprana_actual = etiquetas_tempranas[nodo_actual]\n",
    "\n",
    "# sumo la etiqueta de fecha temprana a la duración de la tarea 1-3 (actual - sucesor)\n",
    "# Ftj = Fti + Dij\n",
    "etiqueta_temprana_sucesor = etiqueta_temprana_actual + NN[nodo_actual, primer_sucesor]\n",
    "\n",
    "# actualizo la lista de etiquetas de fecha temprana\n",
    "etiquetas_tempranas[primer_sucesor] = etiqueta_temprana_sucesor"
   ]
  },
  {
   "cell_type": "code",
   "execution_count": 38,
   "id": "8253862d",
   "metadata": {},
   "outputs": [
    {
     "data": {
      "text/plain": [
       "[0, 2, None, 6, None, None]"
      ]
     },
     "execution_count": 38,
     "metadata": {},
     "output_type": "execute_result"
    }
   ],
   "source": [
    "etiquetas_tempranas"
   ]
  },
  {
   "cell_type": "code",
   "execution_count": null,
   "id": "58ed6dd3",
   "metadata": {},
   "outputs": [],
   "source": [
    "# mi próximo nodo tiene sus predecesores con etiquetas completas\n",
    "#por cada nodo que reviso, saco los predecesores. Obtengo las etiquetas tempranas de c/u, me fijo que alguna no sea None.\n",
    "#Si cumplo eso, es mi siguiente nodo.\n",
    "\n",
    "#calcular distancias entre el nodo actual y sus predecesores\n",
    "\n",
    "# me quedo con el máximo de esas distancias.\n",
    "\n",
    "# actualizo."
   ]
  }
 ],
 "metadata": {
  "kernelspec": {
   "display_name": "Python 3",
   "language": "python",
   "name": "python3"
  },
  "language_info": {
   "codemirror_mode": {
    "name": "ipython",
    "version": 3
   },
   "file_extension": ".py",
   "mimetype": "text/x-python",
   "name": "python",
   "nbconvert_exporter": "python",
   "pygments_lexer": "ipython3",
   "version": "3.8.8"
  }
 },
 "nbformat": 4,
 "nbformat_minor": 5
}
